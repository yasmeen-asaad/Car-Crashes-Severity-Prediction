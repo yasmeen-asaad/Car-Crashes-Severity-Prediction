{
 "cells": [
  {
   "cell_type": "markdown",
   "id": "c7a055e9",
   "metadata": {
    "papermill": {
     "duration": 0.058355,
     "end_time": "2021-07-27T15:39:07.402941",
     "exception": false,
     "start_time": "2021-07-27T15:39:07.344586",
     "status": "completed"
    },
    "tags": []
   },
   "source": [
    "## You're here! \n",
    "Welcome to your first competition in the [ITI's AI Pro training program](https://ai.iti.gov.eg/epita/ai-engineer/)! We hope you enjoy and learn as much as we did prepairing this competition.\n",
    "\n",
    "\n",
    "## Introduction\n",
    "\n",
    "In the competition, it's required to predict the `Severity` of a car crash given info about the crash, e.g., location.\n",
    "\n",
    "This is the getting started notebook. Things are kept simple so that it's easier to understand the steps and modify it.\n",
    "\n",
    "Feel free to `Fork` this notebook and share it with your modifications **OR** use it to create your submissions.\n",
    "\n",
    "### Prerequisites\n",
    "You should know how to use python and a little bit of Machine Learning. You can apply the techniques you learned in the training program and submit the new solutions! \n",
    "\n",
    "### Checklist\n",
    "You can participate in this competition the way you perefer. However, I recommend following these steps if this is your first time joining a competition on Kaggle.\n",
    "\n",
    "* Fork this notebook and run the cells in order.\n",
    "* Submit this solution.\n",
    "* Make changes to the data processing step as you see fit.\n",
    "* Submit the new solutions.\n",
    "\n",
    "*You can submit up to 5 submissions per day. You can select only one of the submission you make to be considered in the final ranking.*\n",
    "\n",
    "\n",
    "Don't hesitate to leave a comment or contact me if you have any question!"
   ]
  },
  {
   "cell_type": "markdown",
   "id": "6b311306",
   "metadata": {
    "papermill": {
     "duration": 0.048035,
     "end_time": "2021-07-27T15:39:07.499745",
     "exception": false,
     "start_time": "2021-07-27T15:39:07.451710",
     "status": "completed"
    },
    "tags": []
   },
   "source": [
    "## Import the libraries\n",
    "\n",
    "We'll use `pandas` to load and manipulate the data. Other libraries will be imported in the relevant sections."
   ]
  },
  {
   "cell_type": "code",
   "execution_count": 1,
   "id": "9fb4fb6e",
   "metadata": {
    "_cell_guid": "b1076dfc-b9ad-4769-8c92-a6c4dae69d19",
    "_uuid": "8f2839f25d086af736a60e9eeb907d3b93b6e0e5",
    "execution": {
     "iopub.execute_input": "2021-07-27T15:39:07.605250Z",
     "iopub.status.busy": "2021-07-27T15:39:07.604549Z",
     "iopub.status.idle": "2021-07-27T15:39:07.608671Z",
     "shell.execute_reply": "2021-07-27T15:39:07.607986Z",
     "shell.execute_reply.started": "2021-07-27T15:29:08.492027Z"
    },
    "papermill": {
     "duration": 0.062561,
     "end_time": "2021-07-27T15:39:07.608903",
     "exception": false,
     "start_time": "2021-07-27T15:39:07.546342",
     "status": "completed"
    },
    "tags": []
   },
   "outputs": [],
   "source": [
    "import pandas as pd\n",
    "import os"
   ]
  },
  {
   "cell_type": "markdown",
   "id": "9c72606c",
   "metadata": {
    "papermill": {
     "duration": 0.046894,
     "end_time": "2021-07-27T15:39:07.702808",
     "exception": false,
     "start_time": "2021-07-27T15:39:07.655914",
     "status": "completed"
    },
    "tags": []
   },
   "source": [
    "## Exploratory Data Analysis\n",
    "In this step, one should load the data and analyze it. However, I'll load the data and do minimal analysis. You are encouraged to do thorough analysis!\n",
    "\n",
    "Let's load the data using `pandas` and have a look at the generated `DataFrame`."
   ]
  },
  {
   "cell_type": "code",
   "execution_count": 2,
   "id": "777cfb1d",
   "metadata": {
    "execution": {
     "iopub.execute_input": "2021-07-27T15:39:07.802518Z",
     "iopub.status.busy": "2021-07-27T15:39:07.801822Z",
     "iopub.status.idle": "2021-07-27T15:39:07.968687Z",
     "shell.execute_reply": "2021-07-27T15:39:07.969207Z",
     "shell.execute_reply.started": "2021-07-27T15:33:18.691347Z"
    },
    "papermill": {
     "duration": 0.219665,
     "end_time": "2021-07-27T15:39:07.969380",
     "exception": false,
     "start_time": "2021-07-27T15:39:07.749715",
     "status": "completed"
    },
    "tags": []
   },
   "outputs": [
    {
     "name": "stdout",
     "output_type": "stream",
     "text": [
      "The shape of the dataset is (6407, 16).\n",
      "\n",
      "\n"
     ]
    },
    {
     "data": {
      "text/html": [
       "<div>\n",
       "<style scoped>\n",
       "    .dataframe tbody tr th:only-of-type {\n",
       "        vertical-align: middle;\n",
       "    }\n",
       "\n",
       "    .dataframe tbody tr th {\n",
       "        vertical-align: top;\n",
       "    }\n",
       "\n",
       "    .dataframe thead th {\n",
       "        text-align: right;\n",
       "    }\n",
       "</style>\n",
       "<table border=\"1\" class=\"dataframe\">\n",
       "  <thead>\n",
       "    <tr style=\"text-align: right;\">\n",
       "      <th></th>\n",
       "      <th>ID</th>\n",
       "      <th>Lat</th>\n",
       "      <th>Lng</th>\n",
       "      <th>Bump</th>\n",
       "      <th>Distance(mi)</th>\n",
       "      <th>Crossing</th>\n",
       "      <th>Give_Way</th>\n",
       "      <th>Junction</th>\n",
       "      <th>No_Exit</th>\n",
       "      <th>Railway</th>\n",
       "      <th>Roundabout</th>\n",
       "      <th>Stop</th>\n",
       "      <th>Amenity</th>\n",
       "      <th>Side</th>\n",
       "      <th>Severity</th>\n",
       "      <th>timestamp</th>\n",
       "    </tr>\n",
       "  </thead>\n",
       "  <tbody>\n",
       "    <tr>\n",
       "      <th>0</th>\n",
       "      <td>0</td>\n",
       "      <td>37.762150</td>\n",
       "      <td>-122.405660</td>\n",
       "      <td>False</td>\n",
       "      <td>0.044</td>\n",
       "      <td>False</td>\n",
       "      <td>False</td>\n",
       "      <td>False</td>\n",
       "      <td>False</td>\n",
       "      <td>False</td>\n",
       "      <td>False</td>\n",
       "      <td>False</td>\n",
       "      <td>True</td>\n",
       "      <td>R</td>\n",
       "      <td>2</td>\n",
       "      <td>2016-03-25 15:13:02</td>\n",
       "    </tr>\n",
       "    <tr>\n",
       "      <th>1</th>\n",
       "      <td>1</td>\n",
       "      <td>37.719157</td>\n",
       "      <td>-122.448254</td>\n",
       "      <td>False</td>\n",
       "      <td>0.000</td>\n",
       "      <td>False</td>\n",
       "      <td>False</td>\n",
       "      <td>False</td>\n",
       "      <td>False</td>\n",
       "      <td>False</td>\n",
       "      <td>False</td>\n",
       "      <td>False</td>\n",
       "      <td>False</td>\n",
       "      <td>R</td>\n",
       "      <td>2</td>\n",
       "      <td>2020-05-05 19:23:00</td>\n",
       "    </tr>\n",
       "    <tr>\n",
       "      <th>2</th>\n",
       "      <td>2</td>\n",
       "      <td>37.808498</td>\n",
       "      <td>-122.366852</td>\n",
       "      <td>False</td>\n",
       "      <td>0.000</td>\n",
       "      <td>False</td>\n",
       "      <td>False</td>\n",
       "      <td>False</td>\n",
       "      <td>False</td>\n",
       "      <td>False</td>\n",
       "      <td>False</td>\n",
       "      <td>True</td>\n",
       "      <td>False</td>\n",
       "      <td>R</td>\n",
       "      <td>3</td>\n",
       "      <td>2016-09-16 19:57:16</td>\n",
       "    </tr>\n",
       "    <tr>\n",
       "      <th>3</th>\n",
       "      <td>3</td>\n",
       "      <td>37.785930</td>\n",
       "      <td>-122.391080</td>\n",
       "      <td>False</td>\n",
       "      <td>0.009</td>\n",
       "      <td>False</td>\n",
       "      <td>False</td>\n",
       "      <td>True</td>\n",
       "      <td>False</td>\n",
       "      <td>False</td>\n",
       "      <td>False</td>\n",
       "      <td>False</td>\n",
       "      <td>False</td>\n",
       "      <td>R</td>\n",
       "      <td>1</td>\n",
       "      <td>2020-03-29 19:48:43</td>\n",
       "    </tr>\n",
       "    <tr>\n",
       "      <th>4</th>\n",
       "      <td>4</td>\n",
       "      <td>37.719141</td>\n",
       "      <td>-122.448457</td>\n",
       "      <td>False</td>\n",
       "      <td>0.000</td>\n",
       "      <td>False</td>\n",
       "      <td>False</td>\n",
       "      <td>False</td>\n",
       "      <td>False</td>\n",
       "      <td>False</td>\n",
       "      <td>False</td>\n",
       "      <td>False</td>\n",
       "      <td>False</td>\n",
       "      <td>R</td>\n",
       "      <td>2</td>\n",
       "      <td>2019-10-09 08:47:00</td>\n",
       "    </tr>\n",
       "  </tbody>\n",
       "</table>\n",
       "</div>"
      ],
      "text/plain": [
       "   ID        Lat         Lng   Bump  Distance(mi)  Crossing  Give_Way  \\\n",
       "0   0  37.762150 -122.405660  False         0.044     False     False   \n",
       "1   1  37.719157 -122.448254  False         0.000     False     False   \n",
       "2   2  37.808498 -122.366852  False         0.000     False     False   \n",
       "3   3  37.785930 -122.391080  False         0.009     False     False   \n",
       "4   4  37.719141 -122.448457  False         0.000     False     False   \n",
       "\n",
       "   Junction  No_Exit  Railway  Roundabout   Stop  Amenity Side  Severity  \\\n",
       "0     False    False    False       False  False     True    R         2   \n",
       "1     False    False    False       False  False    False    R         2   \n",
       "2     False    False    False       False   True    False    R         3   \n",
       "3      True    False    False       False  False    False    R         1   \n",
       "4     False    False    False       False  False    False    R         2   \n",
       "\n",
       "             timestamp  \n",
       "0  2016-03-25 15:13:02  \n",
       "1  2020-05-05 19:23:00  \n",
       "2  2016-09-16 19:57:16  \n",
       "3  2020-03-29 19:48:43  \n",
       "4  2019-10-09 08:47:00  "
      ]
     },
     "execution_count": 2,
     "metadata": {},
     "output_type": "execute_result"
    }
   ],
   "source": [
    "dataset_path = '/kaggle/input/car-crashes-severity-prediction/'\n",
    "\n",
    "df1 = pd.read_csv(os.path.join(dataset_path, 'train.csv'))\n",
    "\n",
    "print(\"The shape of the dataset is {}.\\n\\n\".format(df1.shape))\n",
    "\n",
    "df1.head()"
   ]
  },
  {
   "cell_type": "markdown",
   "id": "051a12f1",
   "metadata": {
    "papermill": {
     "duration": 0.04898,
     "end_time": "2021-07-27T15:39:08.065666",
     "exception": false,
     "start_time": "2021-07-27T15:39:08.016686",
     "status": "completed"
    },
    "tags": []
   },
   "source": [
    "We've got 6407 examples in the dataset with 14 featues, 1 ID, and the `Severity` of the crash.\n",
    "\n",
    "By looking at the features and a sample from the data, the features look of numerical and catogerical types. What about some descriptive statistics?"
   ]
  },
  {
   "cell_type": "code",
   "execution_count": 3,
   "id": "78f43dfb",
   "metadata": {
    "execution": {
     "iopub.execute_input": "2021-07-27T15:39:08.174610Z",
     "iopub.status.busy": "2021-07-27T15:39:08.173861Z",
     "iopub.status.idle": "2021-07-27T15:39:08.214605Z",
     "shell.execute_reply": "2021-07-27T15:39:08.215676Z",
     "shell.execute_reply.started": "2021-07-27T15:33:19.442822Z"
    },
    "papermill": {
     "duration": 0.100785,
     "end_time": "2021-07-27T15:39:08.215903",
     "exception": false,
     "start_time": "2021-07-27T15:39:08.115118",
     "status": "completed"
    },
    "tags": []
   },
   "outputs": [
    {
     "name": "stdout",
     "output_type": "stream",
     "text": [
      "Distance(mi)  3923\n",
      "Bump  6407\n",
      "Crossing  5879\n",
      "Give_Way  6404\n",
      "Junction  4828\n",
      "No_Exit 6406\n",
      "Railway  6237\n",
      "Roundabout  6407\n",
      "Stop  5781\n",
      "Amenity 6169\n",
      "conclusion from previous analysis we will drop Bump, No_Exist, Give_way, and Roundabout because they didn't give fair info almost all of it's rows values = False\n"
     ]
    }
   ],
   "source": [
    "#Discovring How many zero values in \"Distance(mi)\" column  \n",
    "zero_dist_rows = df1[df1[\"Distance(mi)\"] == 0]['ID'].count()\n",
    "print(\"Distance(mi) \",zero_dist_rows)\n",
    "\n",
    "#Discovring How many zero values in \"Bump\" column  \n",
    "print(\"Bump \", df1[df1[\"Bump\"] == False]['ID'].count())\n",
    "\n",
    "#Discovring How many False values in \"Crossing\" column  \n",
    "print(\"Crossing \",df1[df1[\"Crossing\"] == False]['ID'].count())\n",
    "\n",
    "#Discovring How many False values in \"Give_Way\" column  \n",
    "print(\"Give_Way \",df1[df1[\"Give_Way\"] == False]['ID'].count())\n",
    "\n",
    "#Discovring How many False values in \"Junction\" column  \n",
    "print(\"Junction \",df1[df1[\"Junction\"] == False]['ID'].count())\n",
    "\n",
    "#Discovring How many False values in \"No_Exit\" column  \n",
    "print(\"No_Exit\", df1[df1[\"No_Exit\"] == False]['ID'].count())\n",
    "\n",
    "#Discovring How many False values in \"Railway\" column \n",
    "print(\"Railway \",df1[df1[\"Railway\"] == False]['ID'].count())\n",
    "\n",
    "#Discovring How many False values in \"Roundabout\" column  \n",
    "print(\"Roundabout \", df1[df1[\"Roundabout\"] == False]['ID'].count())\n",
    "\n",
    "#Discovring How many False values in \"Stop\" column  \n",
    "print(\"Stop \",df1[df1[\"Stop\"] == False]['ID'].count())\n",
    "\n",
    "#Discovring How many False values in \"Amenity\" column  \n",
    "print(\"Amenity\", df1[df1[\"Amenity\"] == False]['ID'].count())\n",
    "\n",
    "print(\"conclusion from previous analysis we will drop Bump, No_Exist, Give_way, and Roundabout because they didn't give fair info almost all of it's rows values = False\")"
   ]
  },
  {
   "cell_type": "code",
   "execution_count": 4,
   "id": "9dcb237a",
   "metadata": {
    "execution": {
     "iopub.execute_input": "2021-07-27T15:39:08.320117Z",
     "iopub.status.busy": "2021-07-27T15:39:08.319158Z",
     "iopub.status.idle": "2021-07-27T15:39:08.326617Z",
     "shell.execute_reply": "2021-07-27T15:39:08.325737Z",
     "shell.execute_reply.started": "2021-07-27T15:33:19.915026Z"
    },
    "papermill": {
     "duration": 0.062976,
     "end_time": "2021-07-27T15:39:08.326784",
     "exception": false,
     "start_time": "2021-07-27T15:39:08.263808",
     "status": "completed"
    },
    "tags": []
   },
   "outputs": [],
   "source": [
    "#Dropping  \"Bump\", \"No_Exist\", \"Give_way\", \"id\", and \"Roundabout\"  columns\n",
    "df2 = df1.drop(columns = [ 'Bump', 'Give_Way', 'No_Exit', 'Roundabout'])"
   ]
  },
  {
   "cell_type": "code",
   "execution_count": 5,
   "id": "72ca3081",
   "metadata": {
    "execution": {
     "iopub.execute_input": "2021-07-27T15:39:08.456812Z",
     "iopub.status.busy": "2021-07-27T15:39:08.455790Z",
     "iopub.status.idle": "2021-07-27T15:39:08.460615Z",
     "shell.execute_reply": "2021-07-27T15:39:08.459911Z",
     "shell.execute_reply.started": "2021-07-27T15:33:20.355241Z"
    },
    "papermill": {
     "duration": 0.07108,
     "end_time": "2021-07-27T15:39:08.460803",
     "exception": false,
     "start_time": "2021-07-27T15:39:08.389723",
     "status": "completed"
    },
    "tags": []
   },
   "outputs": [],
   "source": [
    "#Convert Railaway, crossing, stop, Junction, and Amentiy columns into zeros and ones \n",
    "df2['Crossing'] = df2['Crossing'] * 1\n",
    "df2['Junction'] = df2['Junction'] * 1\n",
    "df2['Railway'] = df2['Railway'] * 1\n",
    "df2['Stop'] = df2['Stop'] * 1\n",
    "df2['Amenity'] = df2['Amenity'] * 1"
   ]
  },
  {
   "cell_type": "code",
   "execution_count": 6,
   "id": "171f820f",
   "metadata": {
    "execution": {
     "iopub.execute_input": "2021-07-27T15:39:08.562588Z",
     "iopub.status.busy": "2021-07-27T15:39:08.561613Z",
     "iopub.status.idle": "2021-07-27T15:39:08.572218Z",
     "shell.execute_reply": "2021-07-27T15:39:08.571456Z",
     "shell.execute_reply.started": "2021-07-27T15:33:20.925346Z"
    },
    "papermill": {
     "duration": 0.063001,
     "end_time": "2021-07-27T15:39:08.572374",
     "exception": false,
     "start_time": "2021-07-27T15:39:08.509373",
     "status": "completed"
    },
    "tags": []
   },
   "outputs": [],
   "source": [
    "#Convert side column R to 1, L to 0\n",
    "mapping_1 = {'R': 1, 'L': 0}\n",
    "df2 = df2.replace({'Side': mapping_1})"
   ]
  },
  {
   "cell_type": "code",
   "execution_count": 7,
   "id": "318c0970",
   "metadata": {
    "execution": {
     "iopub.execute_input": "2021-07-27T15:39:08.674679Z",
     "iopub.status.busy": "2021-07-27T15:39:08.673608Z",
     "iopub.status.idle": "2021-07-27T15:39:08.678542Z",
     "shell.execute_reply": "2021-07-27T15:39:08.677896Z",
     "shell.execute_reply.started": "2021-07-27T15:33:21.395133Z"
    },
    "papermill": {
     "duration": 0.05836,
     "end_time": "2021-07-27T15:39:08.678682",
     "exception": false,
     "start_time": "2021-07-27T15:39:08.620322",
     "status": "completed"
    },
    "tags": []
   },
   "outputs": [],
   "source": [
    "#Replace Zeros values in Distance(mi) column into the mean of the distance\n",
    "distance_mean = df2['Distance(mi)'].mean()\n",
    "df2.loc[df2[\"Distance(mi)\"] == 0, \"Distance(mi)\"] = distance_mean"
   ]
  },
  {
   "cell_type": "code",
   "execution_count": 8,
   "id": "2fa48c1a",
   "metadata": {
    "execution": {
     "iopub.execute_input": "2021-07-27T15:39:08.780933Z",
     "iopub.status.busy": "2021-07-27T15:39:08.780175Z",
     "iopub.status.idle": "2021-07-27T15:39:08.783898Z",
     "shell.execute_reply": "2021-07-27T15:39:08.784613Z",
     "shell.execute_reply.started": "2021-07-27T15:33:21.875939Z"
    },
    "papermill": {
     "duration": 0.058382,
     "end_time": "2021-07-27T15:39:08.784843",
     "exception": false,
     "start_time": "2021-07-27T15:39:08.726461",
     "status": "completed"
    },
    "tags": []
   },
   "outputs": [
    {
     "name": "stdout",
     "output_type": "stream",
     "text": [
      "<class 'str'>\n"
     ]
    }
   ],
   "source": [
    "print(type(df2['timestamp'][0]))"
   ]
  },
  {
   "cell_type": "code",
   "execution_count": 9,
   "id": "908ff1ed",
   "metadata": {
    "execution": {
     "iopub.execute_input": "2021-07-27T15:39:08.900740Z",
     "iopub.status.busy": "2021-07-27T15:39:08.894190Z",
     "iopub.status.idle": "2021-07-27T15:39:08.939286Z",
     "shell.execute_reply": "2021-07-27T15:39:08.938714Z",
     "shell.execute_reply.started": "2021-07-27T15:33:22.428596Z"
    },
    "papermill": {
     "duration": 0.104732,
     "end_time": "2021-07-27T15:39:08.939442",
     "exception": false,
     "start_time": "2021-07-27T15:39:08.834710",
     "status": "completed"
    },
    "tags": []
   },
   "outputs": [],
   "source": [
    "#change timestamp column type to Timestamp\n",
    "df2[\"timestamp_date_type\"] = pd.to_datetime(df2['timestamp'])\n",
    "#split date, hour, day, month\n",
    "df2[\"date\"] = df2[\"timestamp_date_type\"].apply(pd.Timestamp.date)\n",
    "df2[\"hour\"] = df2[\"timestamp_date_type\"].dt.hour\n",
    "df2[\"day\"] = df2[\"timestamp_date_type\"].dt.day\n",
    "df2[\"month\"] = df2[\"timestamp_date_type\"].dt.month"
   ]
  },
  {
   "cell_type": "code",
   "execution_count": 10,
   "id": "0add5c1f",
   "metadata": {
    "execution": {
     "iopub.execute_input": "2021-07-27T15:39:09.045079Z",
     "iopub.status.busy": "2021-07-27T15:39:09.044381Z",
     "iopub.status.idle": "2021-07-27T15:39:09.067134Z",
     "shell.execute_reply": "2021-07-27T15:39:09.066447Z",
     "shell.execute_reply.started": "2021-07-27T15:33:22.895039Z"
    },
    "papermill": {
     "duration": 0.078643,
     "end_time": "2021-07-27T15:39:09.067295",
     "exception": false,
     "start_time": "2021-07-27T15:39:08.988652",
     "status": "completed"
    },
    "tags": []
   },
   "outputs": [],
   "source": [
    "#To merge weather data_set and training data_Set together make same column in both to merge on it \n",
    "# make modified_date column which contain  'year', 'month', 'day', 'hour'\n",
    "# to match with weather data_set date_column\n",
    "df2[\"year\"] = df2['timestamp_date_type'].dt.year\n",
    "df2['modified_date'] = pd.to_datetime(df2[['year', 'month', 'day', 'hour']])\n",
    "\n",
    "#drop unwanted columns from df2\n",
    "df3 = df2.copy()\n",
    "df3 = df3.drop(columns = ['timestamp_date_type', 'date', 'hour', 'day', 'year'])"
   ]
  },
  {
   "cell_type": "code",
   "execution_count": 11,
   "id": "3d80ad39",
   "metadata": {
    "execution": {
     "iopub.execute_input": "2021-07-27T15:39:09.169161Z",
     "iopub.status.busy": "2021-07-27T15:39:09.167847Z",
     "iopub.status.idle": "2021-07-27T15:39:09.191427Z",
     "shell.execute_reply": "2021-07-27T15:39:09.191948Z",
     "shell.execute_reply.started": "2021-07-27T15:33:23.481172Z"
    },
    "papermill": {
     "duration": 0.076514,
     "end_time": "2021-07-27T15:39:09.192145",
     "exception": false,
     "start_time": "2021-07-27T15:39:09.115631",
     "status": "completed"
    },
    "tags": []
   },
   "outputs": [
    {
     "data": {
      "text/html": [
       "<div>\n",
       "<style scoped>\n",
       "    .dataframe tbody tr th:only-of-type {\n",
       "        vertical-align: middle;\n",
       "    }\n",
       "\n",
       "    .dataframe tbody tr th {\n",
       "        vertical-align: top;\n",
       "    }\n",
       "\n",
       "    .dataframe thead th {\n",
       "        text-align: right;\n",
       "    }\n",
       "</style>\n",
       "<table border=\"1\" class=\"dataframe\">\n",
       "  <thead>\n",
       "    <tr style=\"text-align: right;\">\n",
       "      <th></th>\n",
       "      <th>ID</th>\n",
       "      <th>Lat</th>\n",
       "      <th>Lng</th>\n",
       "      <th>Distance(mi)</th>\n",
       "      <th>Crossing</th>\n",
       "      <th>Junction</th>\n",
       "      <th>Railway</th>\n",
       "      <th>Stop</th>\n",
       "      <th>Amenity</th>\n",
       "      <th>Side</th>\n",
       "      <th>Severity</th>\n",
       "      <th>timestamp</th>\n",
       "      <th>month</th>\n",
       "      <th>modified_date</th>\n",
       "    </tr>\n",
       "  </thead>\n",
       "  <tbody>\n",
       "    <tr>\n",
       "      <th>0</th>\n",
       "      <td>0</td>\n",
       "      <td>37.762150</td>\n",
       "      <td>-122.405660</td>\n",
       "      <td>0.044000</td>\n",
       "      <td>0</td>\n",
       "      <td>0</td>\n",
       "      <td>0</td>\n",
       "      <td>0</td>\n",
       "      <td>1</td>\n",
       "      <td>1</td>\n",
       "      <td>2</td>\n",
       "      <td>2016-03-25 15:13:02</td>\n",
       "      <td>3</td>\n",
       "      <td>2016-03-25 15:00:00</td>\n",
       "    </tr>\n",
       "    <tr>\n",
       "      <th>1</th>\n",
       "      <td>1</td>\n",
       "      <td>37.719157</td>\n",
       "      <td>-122.448254</td>\n",
       "      <td>0.135189</td>\n",
       "      <td>0</td>\n",
       "      <td>0</td>\n",
       "      <td>0</td>\n",
       "      <td>0</td>\n",
       "      <td>0</td>\n",
       "      <td>1</td>\n",
       "      <td>2</td>\n",
       "      <td>2020-05-05 19:23:00</td>\n",
       "      <td>5</td>\n",
       "      <td>2020-05-05 19:00:00</td>\n",
       "    </tr>\n",
       "    <tr>\n",
       "      <th>2</th>\n",
       "      <td>2</td>\n",
       "      <td>37.808498</td>\n",
       "      <td>-122.366852</td>\n",
       "      <td>0.135189</td>\n",
       "      <td>0</td>\n",
       "      <td>0</td>\n",
       "      <td>0</td>\n",
       "      <td>1</td>\n",
       "      <td>0</td>\n",
       "      <td>1</td>\n",
       "      <td>3</td>\n",
       "      <td>2016-09-16 19:57:16</td>\n",
       "      <td>9</td>\n",
       "      <td>2016-09-16 19:00:00</td>\n",
       "    </tr>\n",
       "    <tr>\n",
       "      <th>3</th>\n",
       "      <td>3</td>\n",
       "      <td>37.785930</td>\n",
       "      <td>-122.391080</td>\n",
       "      <td>0.009000</td>\n",
       "      <td>0</td>\n",
       "      <td>1</td>\n",
       "      <td>0</td>\n",
       "      <td>0</td>\n",
       "      <td>0</td>\n",
       "      <td>1</td>\n",
       "      <td>1</td>\n",
       "      <td>2020-03-29 19:48:43</td>\n",
       "      <td>3</td>\n",
       "      <td>2020-03-29 19:00:00</td>\n",
       "    </tr>\n",
       "    <tr>\n",
       "      <th>4</th>\n",
       "      <td>4</td>\n",
       "      <td>37.719141</td>\n",
       "      <td>-122.448457</td>\n",
       "      <td>0.135189</td>\n",
       "      <td>0</td>\n",
       "      <td>0</td>\n",
       "      <td>0</td>\n",
       "      <td>0</td>\n",
       "      <td>0</td>\n",
       "      <td>1</td>\n",
       "      <td>2</td>\n",
       "      <td>2019-10-09 08:47:00</td>\n",
       "      <td>10</td>\n",
       "      <td>2019-10-09 08:00:00</td>\n",
       "    </tr>\n",
       "    <tr>\n",
       "      <th>...</th>\n",
       "      <td>...</td>\n",
       "      <td>...</td>\n",
       "      <td>...</td>\n",
       "      <td>...</td>\n",
       "      <td>...</td>\n",
       "      <td>...</td>\n",
       "      <td>...</td>\n",
       "      <td>...</td>\n",
       "      <td>...</td>\n",
       "      <td>...</td>\n",
       "      <td>...</td>\n",
       "      <td>...</td>\n",
       "      <td>...</td>\n",
       "      <td>...</td>\n",
       "    </tr>\n",
       "    <tr>\n",
       "      <th>6402</th>\n",
       "      <td>6402</td>\n",
       "      <td>37.740630</td>\n",
       "      <td>-122.407930</td>\n",
       "      <td>0.368000</td>\n",
       "      <td>0</td>\n",
       "      <td>0</td>\n",
       "      <td>0</td>\n",
       "      <td>0</td>\n",
       "      <td>0</td>\n",
       "      <td>1</td>\n",
       "      <td>3</td>\n",
       "      <td>2017-10-01 18:36:13</td>\n",
       "      <td>10</td>\n",
       "      <td>2017-10-01 18:00:00</td>\n",
       "    </tr>\n",
       "    <tr>\n",
       "      <th>6403</th>\n",
       "      <td>6403</td>\n",
       "      <td>37.752755</td>\n",
       "      <td>-122.402790</td>\n",
       "      <td>0.639000</td>\n",
       "      <td>0</td>\n",
       "      <td>1</td>\n",
       "      <td>0</td>\n",
       "      <td>0</td>\n",
       "      <td>0</td>\n",
       "      <td>1</td>\n",
       "      <td>2</td>\n",
       "      <td>2018-10-23 07:40:27</td>\n",
       "      <td>10</td>\n",
       "      <td>2018-10-23 07:00:00</td>\n",
       "    </tr>\n",
       "    <tr>\n",
       "      <th>6404</th>\n",
       "      <td>6404</td>\n",
       "      <td>37.726304</td>\n",
       "      <td>-122.446015</td>\n",
       "      <td>0.135189</td>\n",
       "      <td>0</td>\n",
       "      <td>1</td>\n",
       "      <td>0</td>\n",
       "      <td>0</td>\n",
       "      <td>0</td>\n",
       "      <td>1</td>\n",
       "      <td>2</td>\n",
       "      <td>2019-10-28 15:45:00</td>\n",
       "      <td>10</td>\n",
       "      <td>2019-10-28 15:00:00</td>\n",
       "    </tr>\n",
       "    <tr>\n",
       "      <th>6405</th>\n",
       "      <td>6405</td>\n",
       "      <td>37.808090</td>\n",
       "      <td>-122.367211</td>\n",
       "      <td>0.135189</td>\n",
       "      <td>0</td>\n",
       "      <td>1</td>\n",
       "      <td>0</td>\n",
       "      <td>0</td>\n",
       "      <td>0</td>\n",
       "      <td>1</td>\n",
       "      <td>3</td>\n",
       "      <td>2019-05-04 13:45:31</td>\n",
       "      <td>5</td>\n",
       "      <td>2019-05-04 13:00:00</td>\n",
       "    </tr>\n",
       "    <tr>\n",
       "      <th>6406</th>\n",
       "      <td>6406</td>\n",
       "      <td>37.773745</td>\n",
       "      <td>-122.408515</td>\n",
       "      <td>0.135189</td>\n",
       "      <td>1</td>\n",
       "      <td>0</td>\n",
       "      <td>0</td>\n",
       "      <td>0</td>\n",
       "      <td>0</td>\n",
       "      <td>1</td>\n",
       "      <td>2</td>\n",
       "      <td>2020-02-28 19:43:00</td>\n",
       "      <td>2</td>\n",
       "      <td>2020-02-28 19:00:00</td>\n",
       "    </tr>\n",
       "  </tbody>\n",
       "</table>\n",
       "<p>6407 rows × 14 columns</p>\n",
       "</div>"
      ],
      "text/plain": [
       "        ID        Lat         Lng  Distance(mi)  Crossing  Junction  Railway  \\\n",
       "0        0  37.762150 -122.405660      0.044000         0         0        0   \n",
       "1        1  37.719157 -122.448254      0.135189         0         0        0   \n",
       "2        2  37.808498 -122.366852      0.135189         0         0        0   \n",
       "3        3  37.785930 -122.391080      0.009000         0         1        0   \n",
       "4        4  37.719141 -122.448457      0.135189         0         0        0   \n",
       "...    ...        ...         ...           ...       ...       ...      ...   \n",
       "6402  6402  37.740630 -122.407930      0.368000         0         0        0   \n",
       "6403  6403  37.752755 -122.402790      0.639000         0         1        0   \n",
       "6404  6404  37.726304 -122.446015      0.135189         0         1        0   \n",
       "6405  6405  37.808090 -122.367211      0.135189         0         1        0   \n",
       "6406  6406  37.773745 -122.408515      0.135189         1         0        0   \n",
       "\n",
       "      Stop  Amenity  Side  Severity            timestamp  month  \\\n",
       "0        0        1     1         2  2016-03-25 15:13:02      3   \n",
       "1        0        0     1         2  2020-05-05 19:23:00      5   \n",
       "2        1        0     1         3  2016-09-16 19:57:16      9   \n",
       "3        0        0     1         1  2020-03-29 19:48:43      3   \n",
       "4        0        0     1         2  2019-10-09 08:47:00     10   \n",
       "...    ...      ...   ...       ...                  ...    ...   \n",
       "6402     0        0     1         3  2017-10-01 18:36:13     10   \n",
       "6403     0        0     1         2  2018-10-23 07:40:27     10   \n",
       "6404     0        0     1         2  2019-10-28 15:45:00     10   \n",
       "6405     0        0     1         3  2019-05-04 13:45:31      5   \n",
       "6406     0        0     1         2  2020-02-28 19:43:00      2   \n",
       "\n",
       "           modified_date  \n",
       "0    2016-03-25 15:00:00  \n",
       "1    2020-05-05 19:00:00  \n",
       "2    2016-09-16 19:00:00  \n",
       "3    2020-03-29 19:00:00  \n",
       "4    2019-10-09 08:00:00  \n",
       "...                  ...  \n",
       "6402 2017-10-01 18:00:00  \n",
       "6403 2018-10-23 07:00:00  \n",
       "6404 2019-10-28 15:00:00  \n",
       "6405 2019-05-04 13:00:00  \n",
       "6406 2020-02-28 19:00:00  \n",
       "\n",
       "[6407 rows x 14 columns]"
      ]
     },
     "execution_count": 11,
     "metadata": {},
     "output_type": "execute_result"
    }
   ],
   "source": [
    "df3"
   ]
  },
  {
   "cell_type": "code",
   "execution_count": 12,
   "id": "dc4b30bc",
   "metadata": {
    "execution": {
     "iopub.execute_input": "2021-07-27T15:39:09.298110Z",
     "iopub.status.busy": "2021-07-27T15:39:09.297374Z",
     "iopub.status.idle": "2021-07-27T15:39:09.346283Z",
     "shell.execute_reply": "2021-07-27T15:39:09.346761Z",
     "shell.execute_reply.started": "2021-07-27T15:33:24.141113Z"
    },
    "papermill": {
     "duration": 0.103073,
     "end_time": "2021-07-27T15:39:09.346951",
     "exception": false,
     "start_time": "2021-07-27T15:39:09.243878",
     "status": "completed"
    },
    "tags": []
   },
   "outputs": [
    {
     "name": "stdout",
     "output_type": "stream",
     "text": [
      "<class 'pandas.core.frame.DataFrame'>\n",
      "RangeIndex: 6901 entries, 0 to 6900\n",
      "Data columns (total 12 columns):\n",
      " #   Column             Non-Null Count  Dtype  \n",
      "---  ------             --------------  -----  \n",
      " 0   Year               6901 non-null   int64  \n",
      " 1   Day                6901 non-null   int64  \n",
      " 2   Month              6901 non-null   int64  \n",
      " 3   Hour               6901 non-null   int64  \n",
      " 4   Weather_Condition  6900 non-null   object \n",
      " 5   Wind_Chill(F)      3292 non-null   float64\n",
      " 6   Precipitation(in)  3574 non-null   float64\n",
      " 7   Temperature(F)     6899 non-null   float64\n",
      " 8   Humidity(%)        6899 non-null   float64\n",
      " 9   Wind_Speed(mph)    6556 non-null   float64\n",
      " 10  Visibility(mi)     6900 non-null   float64\n",
      " 11  Selected           6901 non-null   object \n",
      "dtypes: float64(6), int64(4), object(2)\n",
      "memory usage: 647.1+ KB\n",
      "None\n"
     ]
    }
   ],
   "source": [
    "#preprosessing on wether dataset\n",
    "df_weather = pd.read_csv(\"/kaggle/input/car-crashes-severity-prediction/weather-sfcsv.csv\")\n",
    "print(df_weather.info())\n",
    "df_weather_2 = df_weather.copy()"
   ]
  },
  {
   "cell_type": "code",
   "execution_count": 13,
   "id": "256e4170",
   "metadata": {
    "execution": {
     "iopub.execute_input": "2021-07-27T15:39:09.473282Z",
     "iopub.status.busy": "2021-07-27T15:39:09.472508Z",
     "iopub.status.idle": "2021-07-27T15:39:09.477386Z",
     "shell.execute_reply": "2021-07-27T15:39:09.476853Z",
     "shell.execute_reply.started": "2021-07-27T15:33:24.888197Z"
    },
    "papermill": {
     "duration": 0.080911,
     "end_time": "2021-07-27T15:39:09.477524",
     "exception": false,
     "start_time": "2021-07-27T15:39:09.396613",
     "status": "completed"
    },
    "tags": []
   },
   "outputs": [
    {
     "data": {
      "text/html": [
       "<div>\n",
       "<style scoped>\n",
       "    .dataframe tbody tr th:only-of-type {\n",
       "        vertical-align: middle;\n",
       "    }\n",
       "\n",
       "    .dataframe tbody tr th {\n",
       "        vertical-align: top;\n",
       "    }\n",
       "\n",
       "    .dataframe thead th {\n",
       "        text-align: right;\n",
       "    }\n",
       "</style>\n",
       "<table border=\"1\" class=\"dataframe\">\n",
       "  <thead>\n",
       "    <tr style=\"text-align: right;\">\n",
       "      <th></th>\n",
       "      <th>Year</th>\n",
       "      <th>Day</th>\n",
       "      <th>Month</th>\n",
       "      <th>Hour</th>\n",
       "      <th>Weather_Condition</th>\n",
       "      <th>Wind_Chill(F)</th>\n",
       "      <th>Precipitation(in)</th>\n",
       "      <th>Temperature(F)</th>\n",
       "      <th>Humidity(%)</th>\n",
       "      <th>Wind_Speed(mph)</th>\n",
       "      <th>Visibility(mi)</th>\n",
       "      <th>Selected</th>\n",
       "    </tr>\n",
       "  </thead>\n",
       "  <tbody>\n",
       "    <tr>\n",
       "      <th>0</th>\n",
       "      <td>2020</td>\n",
       "      <td>27</td>\n",
       "      <td>7</td>\n",
       "      <td>18</td>\n",
       "      <td>Fair</td>\n",
       "      <td>64.0</td>\n",
       "      <td>0.00</td>\n",
       "      <td>64.0</td>\n",
       "      <td>70.0</td>\n",
       "      <td>20.0</td>\n",
       "      <td>10.0</td>\n",
       "      <td>No</td>\n",
       "    </tr>\n",
       "    <tr>\n",
       "      <th>1</th>\n",
       "      <td>2017</td>\n",
       "      <td>30</td>\n",
       "      <td>9</td>\n",
       "      <td>17</td>\n",
       "      <td>Partly Cloudy</td>\n",
       "      <td>NaN</td>\n",
       "      <td>NaN</td>\n",
       "      <td>71.1</td>\n",
       "      <td>57.0</td>\n",
       "      <td>9.2</td>\n",
       "      <td>10.0</td>\n",
       "      <td>No</td>\n",
       "    </tr>\n",
       "    <tr>\n",
       "      <th>2</th>\n",
       "      <td>2017</td>\n",
       "      <td>27</td>\n",
       "      <td>6</td>\n",
       "      <td>5</td>\n",
       "      <td>Overcast</td>\n",
       "      <td>NaN</td>\n",
       "      <td>NaN</td>\n",
       "      <td>57.9</td>\n",
       "      <td>87.0</td>\n",
       "      <td>15.0</td>\n",
       "      <td>9.0</td>\n",
       "      <td>No</td>\n",
       "    </tr>\n",
       "    <tr>\n",
       "      <th>3</th>\n",
       "      <td>2016</td>\n",
       "      <td>7</td>\n",
       "      <td>9</td>\n",
       "      <td>9</td>\n",
       "      <td>Clear</td>\n",
       "      <td>NaN</td>\n",
       "      <td>NaN</td>\n",
       "      <td>66.9</td>\n",
       "      <td>73.0</td>\n",
       "      <td>4.6</td>\n",
       "      <td>10.0</td>\n",
       "      <td>No</td>\n",
       "    </tr>\n",
       "    <tr>\n",
       "      <th>4</th>\n",
       "      <td>2019</td>\n",
       "      <td>19</td>\n",
       "      <td>10</td>\n",
       "      <td>2</td>\n",
       "      <td>Fair</td>\n",
       "      <td>52.0</td>\n",
       "      <td>0.00</td>\n",
       "      <td>52.0</td>\n",
       "      <td>89.0</td>\n",
       "      <td>0.0</td>\n",
       "      <td>9.0</td>\n",
       "      <td>No</td>\n",
       "    </tr>\n",
       "    <tr>\n",
       "      <th>...</th>\n",
       "      <td>...</td>\n",
       "      <td>...</td>\n",
       "      <td>...</td>\n",
       "      <td>...</td>\n",
       "      <td>...</td>\n",
       "      <td>...</td>\n",
       "      <td>...</td>\n",
       "      <td>...</td>\n",
       "      <td>...</td>\n",
       "      <td>...</td>\n",
       "      <td>...</td>\n",
       "      <td>...</td>\n",
       "    </tr>\n",
       "    <tr>\n",
       "      <th>6896</th>\n",
       "      <td>2018</td>\n",
       "      <td>23</td>\n",
       "      <td>1</td>\n",
       "      <td>21</td>\n",
       "      <td>Clear</td>\n",
       "      <td>NaN</td>\n",
       "      <td>NaN</td>\n",
       "      <td>51.1</td>\n",
       "      <td>80.0</td>\n",
       "      <td>3.5</td>\n",
       "      <td>10.0</td>\n",
       "      <td>No</td>\n",
       "    </tr>\n",
       "    <tr>\n",
       "      <th>6897</th>\n",
       "      <td>2019</td>\n",
       "      <td>16</td>\n",
       "      <td>6</td>\n",
       "      <td>7</td>\n",
       "      <td>Cloudy</td>\n",
       "      <td>56.0</td>\n",
       "      <td>0.00</td>\n",
       "      <td>56.0</td>\n",
       "      <td>80.0</td>\n",
       "      <td>9.0</td>\n",
       "      <td>9.0</td>\n",
       "      <td>No</td>\n",
       "    </tr>\n",
       "    <tr>\n",
       "      <th>6898</th>\n",
       "      <td>2017</td>\n",
       "      <td>7</td>\n",
       "      <td>2</td>\n",
       "      <td>4</td>\n",
       "      <td>Rain</td>\n",
       "      <td>NaN</td>\n",
       "      <td>0.07</td>\n",
       "      <td>61.0</td>\n",
       "      <td>90.0</td>\n",
       "      <td>32.2</td>\n",
       "      <td>7.0</td>\n",
       "      <td>No</td>\n",
       "    </tr>\n",
       "    <tr>\n",
       "      <th>6899</th>\n",
       "      <td>2016</td>\n",
       "      <td>22</td>\n",
       "      <td>4</td>\n",
       "      <td>16</td>\n",
       "      <td>Mostly Cloudy</td>\n",
       "      <td>NaN</td>\n",
       "      <td>NaN</td>\n",
       "      <td>61.0</td>\n",
       "      <td>67.0</td>\n",
       "      <td>21.9</td>\n",
       "      <td>10.0</td>\n",
       "      <td>No</td>\n",
       "    </tr>\n",
       "    <tr>\n",
       "      <th>6900</th>\n",
       "      <td>2016</td>\n",
       "      <td>11</td>\n",
       "      <td>12</td>\n",
       "      <td>2</td>\n",
       "      <td>Shallow Fog</td>\n",
       "      <td>NaN</td>\n",
       "      <td>NaN</td>\n",
       "      <td>50.0</td>\n",
       "      <td>93.0</td>\n",
       "      <td>4.6</td>\n",
       "      <td>10.0</td>\n",
       "      <td>No</td>\n",
       "    </tr>\n",
       "  </tbody>\n",
       "</table>\n",
       "<p>6901 rows × 12 columns</p>\n",
       "</div>"
      ],
      "text/plain": [
       "      Year  Day  Month  Hour Weather_Condition  Wind_Chill(F)  \\\n",
       "0     2020   27      7    18              Fair           64.0   \n",
       "1     2017   30      9    17     Partly Cloudy            NaN   \n",
       "2     2017   27      6     5          Overcast            NaN   \n",
       "3     2016    7      9     9             Clear            NaN   \n",
       "4     2019   19     10     2              Fair           52.0   \n",
       "...    ...  ...    ...   ...               ...            ...   \n",
       "6896  2018   23      1    21             Clear            NaN   \n",
       "6897  2019   16      6     7            Cloudy           56.0   \n",
       "6898  2017    7      2     4              Rain            NaN   \n",
       "6899  2016   22      4    16     Mostly Cloudy            NaN   \n",
       "6900  2016   11     12     2       Shallow Fog            NaN   \n",
       "\n",
       "      Precipitation(in)  Temperature(F)  Humidity(%)  Wind_Speed(mph)  \\\n",
       "0                  0.00            64.0         70.0             20.0   \n",
       "1                   NaN            71.1         57.0              9.2   \n",
       "2                   NaN            57.9         87.0             15.0   \n",
       "3                   NaN            66.9         73.0              4.6   \n",
       "4                  0.00            52.0         89.0              0.0   \n",
       "...                 ...             ...          ...              ...   \n",
       "6896                NaN            51.1         80.0              3.5   \n",
       "6897               0.00            56.0         80.0              9.0   \n",
       "6898               0.07            61.0         90.0             32.2   \n",
       "6899                NaN            61.0         67.0             21.9   \n",
       "6900                NaN            50.0         93.0              4.6   \n",
       "\n",
       "      Visibility(mi) Selected  \n",
       "0               10.0       No  \n",
       "1               10.0       No  \n",
       "2                9.0       No  \n",
       "3               10.0       No  \n",
       "4                9.0       No  \n",
       "...              ...      ...  \n",
       "6896            10.0       No  \n",
       "6897             9.0       No  \n",
       "6898             7.0       No  \n",
       "6899            10.0       No  \n",
       "6900            10.0       No  \n",
       "\n",
       "[6901 rows x 12 columns]"
      ]
     },
     "metadata": {},
     "output_type": "display_data"
    }
   ],
   "source": [
    "display(df_weather_2)"
   ]
  },
  {
   "cell_type": "code",
   "execution_count": 14,
   "id": "0d85edc1",
   "metadata": {
    "execution": {
     "iopub.execute_input": "2021-07-27T15:39:09.588929Z",
     "iopub.status.busy": "2021-07-27T15:39:09.587869Z",
     "iopub.status.idle": "2021-07-27T15:39:09.655589Z",
     "shell.execute_reply": "2021-07-27T15:39:09.654869Z",
     "shell.execute_reply.started": "2021-07-27T15:33:25.511962Z"
    },
    "papermill": {
     "duration": 0.127236,
     "end_time": "2021-07-27T15:39:09.655734",
     "exception": false,
     "start_time": "2021-07-27T15:39:09.528498",
     "status": "completed"
    },
    "tags": []
   },
   "outputs": [],
   "source": [
    "# fill nan values in numerical columns with it's mean accordiing to it's month \n",
    "df_weather_2 = df_weather_2.fillna(df_weather_2.groupby('Month').transform('mean'))"
   ]
  },
  {
   "cell_type": "code",
   "execution_count": 15,
   "id": "05a7f380",
   "metadata": {
    "execution": {
     "iopub.execute_input": "2021-07-27T15:39:09.770937Z",
     "iopub.status.busy": "2021-07-27T15:39:09.764685Z",
     "iopub.status.idle": "2021-07-27T15:39:09.773235Z",
     "shell.execute_reply": "2021-07-27T15:39:09.773735Z",
     "shell.execute_reply.started": "2021-07-27T15:33:26.115492Z"
    },
    "papermill": {
     "duration": 0.068431,
     "end_time": "2021-07-27T15:39:09.773924",
     "exception": false,
     "start_time": "2021-07-27T15:39:09.705493",
     "status": "completed"
    },
    "tags": []
   },
   "outputs": [],
   "source": [
    "df_weather_3 = df_weather_2.copy()\n",
    "# Normalize 'Wind_Chill(F)', 'Precipitation(in)', 'Temperature(F)', 'Humidity(%)', 'Wind_Speed(mph)', 'Visibility(mi)' \n",
    "\n",
    "wind_chill_min = df_weather_3[\"Wind_Chill(F)\"].min()\n",
    "wind_chill_max = df_weather_3[\"Wind_Chill(F)\"].max()\n",
    "wind_chill_min_max = wind_chill_max - wind_chill_min\n",
    "df_weather_3[\"Wind_Chill(F)\"] = (df_weather_3[\"Wind_Chill(F)\"] - wind_chill_min) / wind_chill_min_max\n",
    "\n",
    "#Precip_min = df_weather_3[\"Precipitation(in)\"].min()\n",
    "#Precip_max = df_weather_3[\"Precipitation(in)\"].max()\n",
    "#Precip_min_max = Precip_max - Precip_min\n",
    "#df_weather_3[\"Precipitation(in)\"] = (df_weather_3[\"Precipitation(in)\"] - Precip_min) / Precip_min_max\n",
    "\n",
    "Temp_min = df_weather_3[\"Temperature(F)\"].min()\n",
    "Temp_max = df_weather_3[\"Temperature(F)\"].max()\n",
    "Temp_min_max = Temp_max - Temp_min\n",
    "df_weather_3[\"Temperature(F)\"] = (df_weather_3[\"Temperature(F)\"] - Temp_min) / Temp_min_max\n",
    "\n",
    "Humid_min = df_weather_3[\"Humidity(%)\"].min()\n",
    "Humid_max = df_weather_3[\"Humidity(%)\"].max()\n",
    "Humid_min_max = Humid_max - Humid_min\n",
    "df_weather_3[\"Humidity(%)\"] = (df_weather_3[\"Humidity(%)\"] - Humid_min) / Humid_min_max\n",
    "\n",
    "Wind_Speed_min = df_weather_3[\"Wind_Speed(mph)\"].min()\n",
    "Wind_Speed_max = df_weather_3[\"Wind_Speed(mph)\"].max()\n",
    "Wind_Speed_min_max = Wind_Speed_max - Wind_Speed_min\n",
    "df_weather_3[\"Wind_Speed(mph)\"] = (df_weather_3[\"Wind_Speed(mph)\"] - Wind_Speed_min) / Wind_Speed_min_max\n",
    "\n",
    "Visibility_min = df_weather_3[\"Visibility(mi)\"].min()\n",
    "Visibility_max = df_weather_3[\"Visibility(mi)\"].max()\n",
    "Visibility_min_max = Visibility_max - Visibility_min\n",
    "df_weather_3[\"Visibility(mi)\"] = (df_weather_3[\"Visibility(mi)\"] - Visibility_min) / Visibility_min_max"
   ]
  },
  {
   "cell_type": "code",
   "execution_count": 16,
   "id": "f78a51b5",
   "metadata": {
    "execution": {
     "iopub.execute_input": "2021-07-27T15:39:09.879282Z",
     "iopub.status.busy": "2021-07-27T15:39:09.878639Z",
     "iopub.status.idle": "2021-07-27T15:39:09.923989Z",
     "shell.execute_reply": "2021-07-27T15:39:09.923453Z",
     "shell.execute_reply.started": "2021-07-27T15:33:27.076330Z"
    },
    "papermill": {
     "duration": 0.098746,
     "end_time": "2021-07-27T15:39:09.924152",
     "exception": false,
     "start_time": "2021-07-27T15:39:09.825406",
     "status": "completed"
    },
    "tags": []
   },
   "outputs": [
    {
     "data": {
      "text/html": [
       "<div>\n",
       "<style scoped>\n",
       "    .dataframe tbody tr th:only-of-type {\n",
       "        vertical-align: middle;\n",
       "    }\n",
       "\n",
       "    .dataframe tbody tr th {\n",
       "        vertical-align: top;\n",
       "    }\n",
       "\n",
       "    .dataframe thead th {\n",
       "        text-align: right;\n",
       "    }\n",
       "</style>\n",
       "<table border=\"1\" class=\"dataframe\">\n",
       "  <thead>\n",
       "    <tr style=\"text-align: right;\">\n",
       "      <th></th>\n",
       "      <th>Year</th>\n",
       "      <th>Day</th>\n",
       "      <th>Month</th>\n",
       "      <th>Hour</th>\n",
       "      <th>Wind_Chill(F)</th>\n",
       "      <th>Precipitation(in)</th>\n",
       "      <th>Temperature(F)</th>\n",
       "      <th>Humidity(%)</th>\n",
       "      <th>Wind_Speed(mph)</th>\n",
       "      <th>Visibility(mi)</th>\n",
       "    </tr>\n",
       "  </thead>\n",
       "  <tbody>\n",
       "    <tr>\n",
       "      <th>count</th>\n",
       "      <td>6901.000000</td>\n",
       "      <td>6901.000000</td>\n",
       "      <td>6901.000000</td>\n",
       "      <td>6901.000000</td>\n",
       "      <td>6901.000000</td>\n",
       "      <td>6901.000000</td>\n",
       "      <td>6901.000000</td>\n",
       "      <td>6901.000000</td>\n",
       "      <td>6901.000000</td>\n",
       "      <td>6901.00000</td>\n",
       "    </tr>\n",
       "    <tr>\n",
       "      <th>mean</th>\n",
       "      <td>2018.293001</td>\n",
       "      <td>15.624837</td>\n",
       "      <td>6.775250</td>\n",
       "      <td>12.789886</td>\n",
       "      <td>0.433953</td>\n",
       "      <td>0.005930</td>\n",
       "      <td>0.384981</td>\n",
       "      <td>0.650788</td>\n",
       "      <td>0.266867</td>\n",
       "      <td>0.94419</td>\n",
       "    </tr>\n",
       "    <tr>\n",
       "      <th>std</th>\n",
       "      <td>1.390524</td>\n",
       "      <td>8.703753</td>\n",
       "      <td>3.567982</td>\n",
       "      <td>5.874155</td>\n",
       "      <td>0.117495</td>\n",
       "      <td>0.021118</td>\n",
       "      <td>0.128461</td>\n",
       "      <td>0.179754</td>\n",
       "      <td>0.155415</td>\n",
       "      <td>0.16404</td>\n",
       "    </tr>\n",
       "    <tr>\n",
       "      <th>min</th>\n",
       "      <td>2016.000000</td>\n",
       "      <td>1.000000</td>\n",
       "      <td>1.000000</td>\n",
       "      <td>0.000000</td>\n",
       "      <td>0.000000</td>\n",
       "      <td>0.000000</td>\n",
       "      <td>0.000000</td>\n",
       "      <td>0.000000</td>\n",
       "      <td>0.000000</td>\n",
       "      <td>0.00000</td>\n",
       "    </tr>\n",
       "    <tr>\n",
       "      <th>25%</th>\n",
       "      <td>2017.000000</td>\n",
       "      <td>8.000000</td>\n",
       "      <td>4.000000</td>\n",
       "      <td>8.000000</td>\n",
       "      <td>0.343502</td>\n",
       "      <td>0.000000</td>\n",
       "      <td>0.289855</td>\n",
       "      <td>0.544444</td>\n",
       "      <td>0.148883</td>\n",
       "      <td>1.00000</td>\n",
       "    </tr>\n",
       "    <tr>\n",
       "      <th>50%</th>\n",
       "      <td>2019.000000</td>\n",
       "      <td>15.000000</td>\n",
       "      <td>7.000000</td>\n",
       "      <td>14.000000</td>\n",
       "      <td>0.417040</td>\n",
       "      <td>0.000000</td>\n",
       "      <td>0.370370</td>\n",
       "      <td>0.666667</td>\n",
       "      <td>0.248139</td>\n",
       "      <td>1.00000</td>\n",
       "    </tr>\n",
       "    <tr>\n",
       "      <th>75%</th>\n",
       "      <td>2020.000000</td>\n",
       "      <td>23.000000</td>\n",
       "      <td>10.000000</td>\n",
       "      <td>17.000000</td>\n",
       "      <td>0.522532</td>\n",
       "      <td>0.006667</td>\n",
       "      <td>0.465378</td>\n",
       "      <td>0.777778</td>\n",
       "      <td>0.372208</td>\n",
       "      <td>1.00000</td>\n",
       "    </tr>\n",
       "    <tr>\n",
       "      <th>max</th>\n",
       "      <td>2020.000000</td>\n",
       "      <td>31.000000</td>\n",
       "      <td>12.000000</td>\n",
       "      <td>23.000000</td>\n",
       "      <td>1.000000</td>\n",
       "      <td>0.490000</td>\n",
       "      <td>1.000000</td>\n",
       "      <td>1.000000</td>\n",
       "      <td>1.000000</td>\n",
       "      <td>1.00000</td>\n",
       "    </tr>\n",
       "  </tbody>\n",
       "</table>\n",
       "</div>"
      ],
      "text/plain": [
       "              Year          Day        Month         Hour  Wind_Chill(F)  \\\n",
       "count  6901.000000  6901.000000  6901.000000  6901.000000    6901.000000   \n",
       "mean   2018.293001    15.624837     6.775250    12.789886       0.433953   \n",
       "std       1.390524     8.703753     3.567982     5.874155       0.117495   \n",
       "min    2016.000000     1.000000     1.000000     0.000000       0.000000   \n",
       "25%    2017.000000     8.000000     4.000000     8.000000       0.343502   \n",
       "50%    2019.000000    15.000000     7.000000    14.000000       0.417040   \n",
       "75%    2020.000000    23.000000    10.000000    17.000000       0.522532   \n",
       "max    2020.000000    31.000000    12.000000    23.000000       1.000000   \n",
       "\n",
       "       Precipitation(in)  Temperature(F)  Humidity(%)  Wind_Speed(mph)  \\\n",
       "count        6901.000000     6901.000000  6901.000000      6901.000000   \n",
       "mean            0.005930        0.384981     0.650788         0.266867   \n",
       "std             0.021118        0.128461     0.179754         0.155415   \n",
       "min             0.000000        0.000000     0.000000         0.000000   \n",
       "25%             0.000000        0.289855     0.544444         0.148883   \n",
       "50%             0.000000        0.370370     0.666667         0.248139   \n",
       "75%             0.006667        0.465378     0.777778         0.372208   \n",
       "max             0.490000        1.000000     1.000000         1.000000   \n",
       "\n",
       "       Visibility(mi)  \n",
       "count      6901.00000  \n",
       "mean          0.94419  \n",
       "std           0.16404  \n",
       "min           0.00000  \n",
       "25%           1.00000  \n",
       "50%           1.00000  \n",
       "75%           1.00000  \n",
       "max           1.00000  "
      ]
     },
     "execution_count": 16,
     "metadata": {},
     "output_type": "execute_result"
    }
   ],
   "source": [
    "df_weather_3.describe()"
   ]
  },
  {
   "cell_type": "code",
   "execution_count": 17,
   "id": "87745c0e",
   "metadata": {
    "execution": {
     "iopub.execute_input": "2021-07-27T15:39:10.032929Z",
     "iopub.status.busy": "2021-07-27T15:39:10.032253Z",
     "iopub.status.idle": "2021-07-27T15:39:10.035344Z",
     "shell.execute_reply": "2021-07-27T15:39:10.035872Z",
     "shell.execute_reply.started": "2021-07-27T15:33:27.741667Z"
    },
    "papermill": {
     "duration": 0.059761,
     "end_time": "2021-07-27T15:39:10.036070",
     "exception": false,
     "start_time": "2021-07-27T15:39:09.976309",
     "status": "completed"
    },
    "tags": []
   },
   "outputs": [],
   "source": [
    "df_weather_4 = df_weather_3.copy()"
   ]
  },
  {
   "cell_type": "code",
   "execution_count": 18,
   "id": "6827561d",
   "metadata": {
    "execution": {
     "iopub.execute_input": "2021-07-27T15:39:10.158597Z",
     "iopub.status.busy": "2021-07-27T15:39:10.157240Z",
     "iopub.status.idle": "2021-07-27T15:39:10.160051Z",
     "shell.execute_reply": "2021-07-27T15:39:10.160510Z",
     "shell.execute_reply.started": "2021-07-27T15:33:28.212641Z"
    },
    "papermill": {
     "duration": 0.072822,
     "end_time": "2021-07-27T15:39:10.160700",
     "exception": false,
     "start_time": "2021-07-27T15:39:10.087878",
     "status": "completed"
    },
    "tags": []
   },
   "outputs": [],
   "source": [
    "#craeting Date column to merge weathre_dataset with traing_dataset\n",
    "df_weather_4[\"date\"] = pd.to_datetime(df_weather_4[['Year', 'Month', 'Day']])"
   ]
  },
  {
   "cell_type": "code",
   "execution_count": null,
   "id": "558b4f69",
   "metadata": {
    "papermill": {
     "duration": 0.050921,
     "end_time": "2021-07-27T15:39:10.262720",
     "exception": false,
     "start_time": "2021-07-27T15:39:10.211799",
     "status": "completed"
    },
    "tags": []
   },
   "outputs": [],
   "source": []
  },
  {
   "cell_type": "code",
   "execution_count": 19,
   "id": "a2a7cdc1",
   "metadata": {
    "execution": {
     "iopub.execute_input": "2021-07-27T15:39:10.382779Z",
     "iopub.status.busy": "2021-07-27T15:39:10.381789Z",
     "iopub.status.idle": "2021-07-27T15:39:10.386566Z",
     "shell.execute_reply": "2021-07-27T15:39:10.385913Z",
     "shell.execute_reply.started": "2021-07-27T15:33:29.548151Z"
    },
    "papermill": {
     "duration": 0.073118,
     "end_time": "2021-07-27T15:39:10.386707",
     "exception": false,
     "start_time": "2021-07-27T15:39:10.313589",
     "status": "completed"
    },
    "tags": []
   },
   "outputs": [],
   "source": [
    "df_weather_4['modified_date'] = pd.to_datetime(df_weather_4[['Year', 'Month', 'Day', 'Hour']])"
   ]
  },
  {
   "cell_type": "code",
   "execution_count": 20,
   "id": "6dd6f5f1",
   "metadata": {
    "execution": {
     "iopub.execute_input": "2021-07-27T15:39:10.493457Z",
     "iopub.status.busy": "2021-07-27T15:39:10.492408Z",
     "iopub.status.idle": "2021-07-27T15:39:10.498753Z",
     "shell.execute_reply": "2021-07-27T15:39:10.498089Z",
     "shell.execute_reply.started": "2021-07-27T15:33:30.009260Z"
    },
    "papermill": {
     "duration": 0.061255,
     "end_time": "2021-07-27T15:39:10.498895",
     "exception": false,
     "start_time": "2021-07-27T15:39:10.437640",
     "status": "completed"
    },
    "tags": []
   },
   "outputs": [],
   "source": [
    "df_weather_5 = df_weather_4.copy()\n",
    "df_weather_5 = df_weather_5.drop(columns = ['Selected', 'Day', 'Month', 'Hour'])"
   ]
  },
  {
   "cell_type": "code",
   "execution_count": 21,
   "id": "5170ee74",
   "metadata": {
    "execution": {
     "iopub.execute_input": "2021-07-27T15:39:10.607159Z",
     "iopub.status.busy": "2021-07-27T15:39:10.606442Z",
     "iopub.status.idle": "2021-07-27T15:39:10.609387Z",
     "shell.execute_reply": "2021-07-27T15:39:10.608860Z",
     "shell.execute_reply.started": "2021-07-27T15:33:30.589265Z"
    },
    "papermill": {
     "duration": 0.059407,
     "end_time": "2021-07-27T15:39:10.609532",
     "exception": false,
     "start_time": "2021-07-27T15:39:10.550125",
     "status": "completed"
    },
    "tags": []
   },
   "outputs": [],
   "source": [
    "# Factorizing Weather_Condition coulmn, then normalize it \n",
    "df_weather_5['Weather_Condition'] = pd.factorize(df_weather_5['Weather_Condition'])[0]"
   ]
  },
  {
   "cell_type": "code",
   "execution_count": 22,
   "id": "196d2d0b",
   "metadata": {
    "execution": {
     "iopub.execute_input": "2021-07-27T15:39:10.717304Z",
     "iopub.status.busy": "2021-07-27T15:39:10.716618Z",
     "iopub.status.idle": "2021-07-27T15:39:10.719752Z",
     "shell.execute_reply": "2021-07-27T15:39:10.719228Z",
     "shell.execute_reply.started": "2021-07-27T15:33:31.165355Z"
    },
    "papermill": {
     "duration": 0.060046,
     "end_time": "2021-07-27T15:39:10.719900",
     "exception": false,
     "start_time": "2021-07-27T15:39:10.659854",
     "status": "completed"
    },
    "tags": []
   },
   "outputs": [],
   "source": [
    "# Normalize Weather_Condition after Factorizing it \n",
    "min_weather = df_weather_5['Weather_Condition'].min()\n",
    "max_weather = df_weather_5['Weather_Condition'].max()\n",
    "min_max_weather = max_weather - min_weather\n",
    "df_weather_5['Weather_Condition'] = (df_weather_5['Weather_Condition'] - min_weather) / min_max_weather"
   ]
  },
  {
   "cell_type": "code",
   "execution_count": 23,
   "id": "09daca00",
   "metadata": {
    "execution": {
     "iopub.execute_input": "2021-07-27T15:39:10.827672Z",
     "iopub.status.busy": "2021-07-27T15:39:10.826975Z",
     "iopub.status.idle": "2021-07-27T15:39:10.860516Z",
     "shell.execute_reply": "2021-07-27T15:39:10.859971Z",
     "shell.execute_reply.started": "2021-07-27T15:33:31.616763Z"
    },
    "papermill": {
     "duration": 0.090263,
     "end_time": "2021-07-27T15:39:10.860665",
     "exception": false,
     "start_time": "2021-07-27T15:39:10.770402",
     "status": "completed"
    },
    "tags": []
   },
   "outputs": [
    {
     "data": {
      "text/html": [
       "<div>\n",
       "<style scoped>\n",
       "    .dataframe tbody tr th:only-of-type {\n",
       "        vertical-align: middle;\n",
       "    }\n",
       "\n",
       "    .dataframe tbody tr th {\n",
       "        vertical-align: top;\n",
       "    }\n",
       "\n",
       "    .dataframe thead th {\n",
       "        text-align: right;\n",
       "    }\n",
       "</style>\n",
       "<table border=\"1\" class=\"dataframe\">\n",
       "  <thead>\n",
       "    <tr style=\"text-align: right;\">\n",
       "      <th></th>\n",
       "      <th>Year</th>\n",
       "      <th>Weather_Condition</th>\n",
       "      <th>Wind_Chill(F)</th>\n",
       "      <th>Precipitation(in)</th>\n",
       "      <th>Temperature(F)</th>\n",
       "      <th>Humidity(%)</th>\n",
       "      <th>Wind_Speed(mph)</th>\n",
       "      <th>Visibility(mi)</th>\n",
       "    </tr>\n",
       "  </thead>\n",
       "  <tbody>\n",
       "    <tr>\n",
       "      <th>count</th>\n",
       "      <td>6901.000000</td>\n",
       "      <td>6901.000000</td>\n",
       "      <td>6901.000000</td>\n",
       "      <td>6901.000000</td>\n",
       "      <td>6901.000000</td>\n",
       "      <td>6901.000000</td>\n",
       "      <td>6901.000000</td>\n",
       "      <td>6901.00000</td>\n",
       "    </tr>\n",
       "    <tr>\n",
       "      <th>mean</th>\n",
       "      <td>2018.293001</td>\n",
       "      <td>0.169502</td>\n",
       "      <td>0.433953</td>\n",
       "      <td>0.005930</td>\n",
       "      <td>0.384981</td>\n",
       "      <td>0.650788</td>\n",
       "      <td>0.266867</td>\n",
       "      <td>0.94419</td>\n",
       "    </tr>\n",
       "    <tr>\n",
       "      <th>std</th>\n",
       "      <td>1.390524</td>\n",
       "      <td>0.137718</td>\n",
       "      <td>0.117495</td>\n",
       "      <td>0.021118</td>\n",
       "      <td>0.128461</td>\n",
       "      <td>0.179754</td>\n",
       "      <td>0.155415</td>\n",
       "      <td>0.16404</td>\n",
       "    </tr>\n",
       "    <tr>\n",
       "      <th>min</th>\n",
       "      <td>2016.000000</td>\n",
       "      <td>0.000000</td>\n",
       "      <td>0.000000</td>\n",
       "      <td>0.000000</td>\n",
       "      <td>0.000000</td>\n",
       "      <td>0.000000</td>\n",
       "      <td>0.000000</td>\n",
       "      <td>0.00000</td>\n",
       "    </tr>\n",
       "    <tr>\n",
       "      <th>25%</th>\n",
       "      <td>2017.000000</td>\n",
       "      <td>0.076923</td>\n",
       "      <td>0.343502</td>\n",
       "      <td>0.000000</td>\n",
       "      <td>0.289855</td>\n",
       "      <td>0.544444</td>\n",
       "      <td>0.148883</td>\n",
       "      <td>1.00000</td>\n",
       "    </tr>\n",
       "    <tr>\n",
       "      <th>50%</th>\n",
       "      <td>2019.000000</td>\n",
       "      <td>0.153846</td>\n",
       "      <td>0.417040</td>\n",
       "      <td>0.000000</td>\n",
       "      <td>0.370370</td>\n",
       "      <td>0.666667</td>\n",
       "      <td>0.248139</td>\n",
       "      <td>1.00000</td>\n",
       "    </tr>\n",
       "    <tr>\n",
       "      <th>75%</th>\n",
       "      <td>2020.000000</td>\n",
       "      <td>0.192308</td>\n",
       "      <td>0.522532</td>\n",
       "      <td>0.006667</td>\n",
       "      <td>0.465378</td>\n",
       "      <td>0.777778</td>\n",
       "      <td>0.372208</td>\n",
       "      <td>1.00000</td>\n",
       "    </tr>\n",
       "    <tr>\n",
       "      <th>max</th>\n",
       "      <td>2020.000000</td>\n",
       "      <td>1.000000</td>\n",
       "      <td>1.000000</td>\n",
       "      <td>0.490000</td>\n",
       "      <td>1.000000</td>\n",
       "      <td>1.000000</td>\n",
       "      <td>1.000000</td>\n",
       "      <td>1.00000</td>\n",
       "    </tr>\n",
       "  </tbody>\n",
       "</table>\n",
       "</div>"
      ],
      "text/plain": [
       "              Year  Weather_Condition  Wind_Chill(F)  Precipitation(in)  \\\n",
       "count  6901.000000        6901.000000    6901.000000        6901.000000   \n",
       "mean   2018.293001           0.169502       0.433953           0.005930   \n",
       "std       1.390524           0.137718       0.117495           0.021118   \n",
       "min    2016.000000           0.000000       0.000000           0.000000   \n",
       "25%    2017.000000           0.076923       0.343502           0.000000   \n",
       "50%    2019.000000           0.153846       0.417040           0.000000   \n",
       "75%    2020.000000           0.192308       0.522532           0.006667   \n",
       "max    2020.000000           1.000000       1.000000           0.490000   \n",
       "\n",
       "       Temperature(F)  Humidity(%)  Wind_Speed(mph)  Visibility(mi)  \n",
       "count     6901.000000  6901.000000      6901.000000      6901.00000  \n",
       "mean         0.384981     0.650788         0.266867         0.94419  \n",
       "std          0.128461     0.179754         0.155415         0.16404  \n",
       "min          0.000000     0.000000         0.000000         0.00000  \n",
       "25%          0.289855     0.544444         0.148883         1.00000  \n",
       "50%          0.370370     0.666667         0.248139         1.00000  \n",
       "75%          0.465378     0.777778         0.372208         1.00000  \n",
       "max          1.000000     1.000000         1.000000         1.00000  "
      ]
     },
     "execution_count": 23,
     "metadata": {},
     "output_type": "execute_result"
    }
   ],
   "source": [
    "df_weather_5.describe()"
   ]
  },
  {
   "cell_type": "code",
   "execution_count": 24,
   "id": "3e20b419",
   "metadata": {
    "execution": {
     "iopub.execute_input": "2021-07-27T15:39:10.973009Z",
     "iopub.status.busy": "2021-07-27T15:39:10.972201Z",
     "iopub.status.idle": "2021-07-27T15:39:10.991230Z",
     "shell.execute_reply": "2021-07-27T15:39:10.990682Z",
     "shell.execute_reply.started": "2021-07-27T15:33:32.160159Z"
    },
    "papermill": {
     "duration": 0.078551,
     "end_time": "2021-07-27T15:39:10.991379",
     "exception": false,
     "start_time": "2021-07-27T15:39:10.912828",
     "status": "completed"
    },
    "tags": []
   },
   "outputs": [
    {
     "name": "stdout",
     "output_type": "stream",
     "text": [
      "(8537, 23)\n",
      "(6407, 23)\n"
     ]
    }
   ],
   "source": [
    "#Merginig weather data set with trainig data_set to get the whoole dataset\n",
    "#Merging on modified_date in weather and modified_date in traing dataset\n",
    "#whole_df = df3.merge(df_weather_5, on = 'modified_date', how='left')\n",
    "whole_df = pd.merge(df3, df_weather_5, how='left', left_on = \"modified_date\", right_on = 'modified_date')\n",
    "print(whole_df.shape)\n",
    "whole_df_2 = whole_df.drop_duplicates(\"ID\")\n",
    "print(whole_df_2.shape)"
   ]
  },
  {
   "cell_type": "code",
   "execution_count": 25,
   "id": "47ba1362",
   "metadata": {
    "execution": {
     "iopub.execute_input": "2021-07-27T15:39:11.099606Z",
     "iopub.status.busy": "2021-07-27T15:39:11.098916Z",
     "iopub.status.idle": "2021-07-27T15:39:11.104361Z",
     "shell.execute_reply": "2021-07-27T15:39:11.104828Z",
     "shell.execute_reply.started": "2021-07-27T15:33:32.715485Z"
    },
    "papermill": {
     "duration": 0.061415,
     "end_time": "2021-07-27T15:39:11.105008",
     "exception": false,
     "start_time": "2021-07-27T15:39:11.043593",
     "status": "completed"
    },
    "tags": []
   },
   "outputs": [
    {
     "data": {
      "text/plain": [
       "Index(['ID', 'Lat', 'Lng', 'Distance(mi)', 'Crossing', 'Junction', 'Railway',\n",
       "       'Stop', 'Amenity', 'Side', 'Severity', 'timestamp', 'month',\n",
       "       'modified_date', 'Year', 'Weather_Condition', 'Wind_Chill(F)',\n",
       "       'Precipitation(in)', 'Temperature(F)', 'Humidity(%)', 'Wind_Speed(mph)',\n",
       "       'Visibility(mi)', 'date'],\n",
       "      dtype='object')"
      ]
     },
     "execution_count": 25,
     "metadata": {},
     "output_type": "execute_result"
    }
   ],
   "source": [
    "whole_df_2.columns"
   ]
  },
  {
   "cell_type": "code",
   "execution_count": 26,
   "id": "65473d88",
   "metadata": {
    "execution": {
     "iopub.execute_input": "2021-07-27T15:39:11.213840Z",
     "iopub.status.busy": "2021-07-27T15:39:11.213109Z",
     "iopub.status.idle": "2021-07-27T15:39:11.262229Z",
     "shell.execute_reply": "2021-07-27T15:39:11.261501Z",
     "shell.execute_reply.started": "2021-07-27T15:33:33.270481Z"
    },
    "papermill": {
     "duration": 0.103683,
     "end_time": "2021-07-27T15:39:11.262378",
     "exception": false,
     "start_time": "2021-07-27T15:39:11.158695",
     "status": "completed"
    },
    "tags": []
   },
   "outputs": [
    {
     "name": "stderr",
     "output_type": "stream",
     "text": [
      "/opt/conda/lib/python3.7/site-packages/ipykernel_launcher.py:17: SettingWithCopyWarning: \n",
      "A value is trying to be set on a copy of a slice from a DataFrame.\n",
      "Try using .loc[row_indexer,col_indexer] = value instead\n",
      "\n",
      "See the caveats in the documentation: https://pandas.pydata.org/pandas-docs/stable/user_guide/indexing.html#returning-a-view-versus-a-copy\n",
      "/opt/conda/lib/python3.7/site-packages/ipykernel_launcher.py:27: SettingWithCopyWarning: \n",
      "A value is trying to be set on a copy of a slice from a DataFrame.\n",
      "Try using .loc[row_indexer,col_indexer] = value instead\n",
      "\n",
      "See the caveats in the documentation: https://pandas.pydata.org/pandas-docs/stable/user_guide/indexing.html#returning-a-view-versus-a-copy\n"
     ]
    }
   ],
   "source": [
    "# Extracting holiday column from holiday dataset \n",
    "from xml.dom import minidom\n",
    "from datetime import datetime \n",
    "\n",
    "holidays_file = minidom.parse(\"/kaggle/input/car-crashes-severity-prediction/holidays.xml\")\n",
    "dates = holidays_file.getElementsByTagName('date')\n",
    "\n",
    "month_day_list = []\n",
    "month_list = []\n",
    "day_list = []\n",
    "\n",
    "for d in dates:\n",
    "    month_day_list.append(d.firstChild.data[5:])\n",
    "    month_list.append(int(d.firstChild.data[5:7]))\n",
    "    day_list.append(int(d.firstChild.data[8:]))\n",
    "    \n",
    "whole_df_2[\"month_day\"] = whole_df_2[\"timestamp\"].apply(lambda x: x[5:10])\n",
    "holiday_list = []\n",
    "\n",
    "# creating holiday column\n",
    "for md in whole_df_2[\"month_day\"]:\n",
    "    if md in month_day_list:\n",
    "        holiday_list.append(1)\n",
    "    else:\n",
    "        holiday_list.append(0)\n",
    "        \n",
    "whole_df_2[\"holiday\"] = holiday_list"
   ]
  },
  {
   "cell_type": "code",
   "execution_count": 27,
   "id": "2ba55929",
   "metadata": {
    "execution": {
     "iopub.execute_input": "2021-07-27T15:39:11.374685Z",
     "iopub.status.busy": "2021-07-27T15:39:11.373876Z",
     "iopub.status.idle": "2021-07-27T15:39:11.377979Z",
     "shell.execute_reply": "2021-07-27T15:39:11.377417Z",
     "shell.execute_reply.started": "2021-07-27T15:33:34.365702Z"
    },
    "papermill": {
     "duration": 0.063306,
     "end_time": "2021-07-27T15:39:11.378175",
     "exception": false,
     "start_time": "2021-07-27T15:39:11.314869",
     "status": "completed"
    },
    "tags": []
   },
   "outputs": [
    {
     "name": "stdout",
     "output_type": "stream",
     "text": [
      "(6407, 25)\n",
      "Index(['ID', 'Lat', 'Lng', 'Distance(mi)', 'Crossing', 'Junction', 'Railway',\n",
      "       'Stop', 'Amenity', 'Side', 'Severity', 'timestamp', 'month',\n",
      "       'modified_date', 'Year', 'Weather_Condition', 'Wind_Chill(F)',\n",
      "       'Precipitation(in)', 'Temperature(F)', 'Humidity(%)', 'Wind_Speed(mph)',\n",
      "       'Visibility(mi)', 'date', 'month_day', 'holiday'],\n",
      "      dtype='object')\n"
     ]
    }
   ],
   "source": [
    "print(whole_df_2.shape)\n",
    "print(whole_df_2.columns)"
   ]
  },
  {
   "cell_type": "code",
   "execution_count": 28,
   "id": "51ed4cc3",
   "metadata": {
    "execution": {
     "iopub.execute_input": "2021-07-27T15:39:11.491906Z",
     "iopub.status.busy": "2021-07-27T15:39:11.490326Z",
     "iopub.status.idle": "2021-07-27T15:39:11.497557Z",
     "shell.execute_reply": "2021-07-27T15:39:11.496976Z",
     "shell.execute_reply.started": "2021-07-27T15:33:35.037953Z"
    },
    "papermill": {
     "duration": 0.066156,
     "end_time": "2021-07-27T15:39:11.497717",
     "exception": false,
     "start_time": "2021-07-27T15:39:11.431561",
     "status": "completed"
    },
    "tags": []
   },
   "outputs": [
    {
     "data": {
      "text/plain": [
       "array([ 3,  5,  9, 10,  2,  6,  4,  8, 11, 12,  1,  7])"
      ]
     },
     "execution_count": 28,
     "metadata": {},
     "output_type": "execute_result"
    }
   ],
   "source": [
    "whole_df_2['month'].unique()"
   ]
  },
  {
   "cell_type": "code",
   "execution_count": null,
   "id": "7ee39e64",
   "metadata": {
    "papermill": {
     "duration": 0.052667,
     "end_time": "2021-07-27T15:39:11.605335",
     "exception": false,
     "start_time": "2021-07-27T15:39:11.552668",
     "status": "completed"
    },
    "tags": []
   },
   "outputs": [],
   "source": [
    "\n"
   ]
  },
  {
   "cell_type": "code",
   "execution_count": 29,
   "id": "e29e90a6",
   "metadata": {
    "execution": {
     "iopub.execute_input": "2021-07-27T15:39:11.717323Z",
     "iopub.status.busy": "2021-07-27T15:39:11.716601Z",
     "iopub.status.idle": "2021-07-27T15:39:12.773947Z",
     "shell.execute_reply": "2021-07-27T15:39:12.774698Z",
     "shell.execute_reply.started": "2021-07-27T15:33:36.134462Z"
    },
    "papermill": {
     "duration": 1.116233,
     "end_time": "2021-07-27T15:39:12.774984",
     "exception": false,
     "start_time": "2021-07-27T15:39:11.658751",
     "status": "completed"
    },
    "tags": []
   },
   "outputs": [],
   "source": [
    "from sklearn.model_selection import train_test_split\n",
    "\n",
    "train_df, val_df = train_test_split(whole_df_2, test_size=0.2, random_state=42) # Try adding `stratify` here\n",
    "\n",
    "X_train = train_df.drop(columns=['Severity'])\n",
    "y_train = train_df['Severity']\n",
    "\n",
    "X_val = val_df.drop(columns=['Severity'])\n",
    "y_val = val_df['Severity']\n"
   ]
  },
  {
   "cell_type": "code",
   "execution_count": 30,
   "id": "c4c5e550",
   "metadata": {
    "execution": {
     "iopub.execute_input": "2021-07-27T15:39:12.892586Z",
     "iopub.status.busy": "2021-07-27T15:39:12.891598Z",
     "iopub.status.idle": "2021-07-27T15:39:12.897211Z",
     "shell.execute_reply": "2021-07-27T15:39:12.896645Z",
     "shell.execute_reply.started": "2021-07-27T15:33:37.033215Z"
    },
    "papermill": {
     "duration": 0.067177,
     "end_time": "2021-07-27T15:39:12.897359",
     "exception": false,
     "start_time": "2021-07-27T15:39:12.830182",
     "status": "completed"
    },
    "tags": []
   },
   "outputs": [
    {
     "data": {
      "text/plain": [
       "Index(['ID', 'Lat', 'Lng', 'Distance(mi)', 'Crossing', 'Junction', 'Railway',\n",
       "       'Stop', 'Amenity', 'Side', 'Severity', 'timestamp', 'month',\n",
       "       'modified_date', 'Year', 'Weather_Condition', 'Wind_Chill(F)',\n",
       "       'Precipitation(in)', 'Temperature(F)', 'Humidity(%)', 'Wind_Speed(mph)',\n",
       "       'Visibility(mi)', 'date', 'month_day', 'holiday'],\n",
       "      dtype='object')"
      ]
     },
     "execution_count": 30,
     "metadata": {},
     "output_type": "execute_result"
    }
   ],
   "source": [
    "whole_df_2.columns"
   ]
  },
  {
   "cell_type": "markdown",
   "id": "a779d662",
   "metadata": {
    "papermill": {
     "duration": 0.054373,
     "end_time": "2021-07-27T15:39:13.006277",
     "exception": false,
     "start_time": "2021-07-27T15:39:12.951904",
     "status": "completed"
    },
    "tags": []
   },
   "source": [
    "As pointed out eariler, I'll use the numerical features to train the classifier. **However, you shouldn't use the numerical features only to make the final submission if you want to make it to the top of the leaderboard.** "
   ]
  },
  {
   "cell_type": "code",
   "execution_count": 31,
   "id": "03626cf5",
   "metadata": {
    "execution": {
     "iopub.execute_input": "2021-07-27T15:39:13.128986Z",
     "iopub.status.busy": "2021-07-27T15:39:13.127992Z",
     "iopub.status.idle": "2021-07-27T15:39:13.131159Z",
     "shell.execute_reply": "2021-07-27T15:39:13.131644Z",
     "shell.execute_reply.started": "2021-07-27T15:33:37.856628Z"
    },
    "papermill": {
     "duration": 0.069319,
     "end_time": "2021-07-27T15:39:13.131824",
     "exception": false,
     "start_time": "2021-07-27T15:39:13.062505",
     "status": "completed"
    },
    "tags": []
   },
   "outputs": [],
   "source": [
    "# This cell is used to select the numerical features. IT SHOULD BE REMOVED AS YOU DO YOUR WORK.\n",
    "X_train = X_train[['Lat', 'Lng', 'Distance(mi)', 'Junction', 'Railway', 'Stop', 'Amenity', 'holiday','Side', 'Weather_Condition', 'Wind_Chill(F)', 'Precipitation(in)',\n",
    "       'Temperature(F)', 'Humidity(%)', 'Wind_Speed(mph)', 'Visibility(mi)','Year']]\n",
    "\n",
    "X_val = X_val[['Lat', 'Lng', 'Distance(mi)', 'Junction', 'Railway', 'Stop', 'Amenity', 'holiday','Side', 'Weather_Condition', 'Wind_Chill(F)', 'Precipitation(in)',\n",
    "       'Temperature(F)', 'Humidity(%)', 'Wind_Speed(mph)', 'Visibility(mi)','Year']]\n"
   ]
  },
  {
   "cell_type": "markdown",
   "id": "ab0aff44",
   "metadata": {
    "papermill": {
     "duration": 0.052672,
     "end_time": "2021-07-27T15:39:13.238547",
     "exception": false,
     "start_time": "2021-07-27T15:39:13.185875",
     "status": "completed"
    },
    "tags": []
   },
   "source": [
    "## Model Training\n",
    "\n",
    "Let's train a model with the data! We'll train a Random Forest Classifier to demonstrate the process of making submissions. "
   ]
  },
  {
   "cell_type": "code",
   "execution_count": 32,
   "id": "c0e70519",
   "metadata": {
    "execution": {
     "iopub.execute_input": "2021-07-27T15:39:13.354525Z",
     "iopub.status.busy": "2021-07-27T15:39:13.353846Z",
     "iopub.status.idle": "2021-07-27T15:39:13.909459Z",
     "shell.execute_reply": "2021-07-27T15:39:13.910004Z",
     "shell.execute_reply.started": "2021-07-27T15:33:39.067796Z"
    },
    "papermill": {
     "duration": 0.615222,
     "end_time": "2021-07-27T15:39:13.910208",
     "exception": false,
     "start_time": "2021-07-27T15:39:13.294986",
     "status": "completed"
    },
    "tags": []
   },
   "outputs": [],
   "source": [
    "from sklearn.ensemble import RandomForestClassifier\n",
    "\n",
    "# Create an instance of the classifier\n",
    "classifier = RandomForestClassifier(max_depth=2, random_state=0)\n",
    "\n",
    "# Train the classifier\n",
    "classifier = classifier.fit(X_train, y_train)"
   ]
  },
  {
   "cell_type": "markdown",
   "id": "55a3eabf",
   "metadata": {
    "papermill": {
     "duration": 0.053381,
     "end_time": "2021-07-27T15:39:14.017985",
     "exception": false,
     "start_time": "2021-07-27T15:39:13.964604",
     "status": "completed"
    },
    "tags": []
   },
   "source": [
    "Now let's test our classifier on the validation dataset and see the accuracy."
   ]
  },
  {
   "cell_type": "code",
   "execution_count": 33,
   "id": "c4782028",
   "metadata": {
    "execution": {
     "iopub.execute_input": "2021-07-27T15:39:14.134652Z",
     "iopub.status.busy": "2021-07-27T15:39:14.133566Z",
     "iopub.status.idle": "2021-07-27T15:39:14.156724Z",
     "shell.execute_reply": "2021-07-27T15:39:14.156076Z",
     "shell.execute_reply.started": "2021-07-27T15:33:40.573444Z"
    },
    "papermill": {
     "duration": 0.084382,
     "end_time": "2021-07-27T15:39:14.156867",
     "exception": false,
     "start_time": "2021-07-27T15:39:14.072485",
     "status": "completed"
    },
    "tags": []
   },
   "outputs": [
    {
     "name": "stdout",
     "output_type": "stream",
     "text": [
      "The accuracy of the classifier on the validation set is  0.7480499219968799\n"
     ]
    }
   ],
   "source": [
    "print(\"The accuracy of the classifier on the validation set is \", (classifier.score(X_val, y_val)))"
   ]
  },
  {
   "cell_type": "markdown",
   "id": "f2b20313",
   "metadata": {
    "papermill": {
     "duration": 0.053523,
     "end_time": "2021-07-27T15:39:14.265450",
     "exception": false,
     "start_time": "2021-07-27T15:39:14.211927",
     "status": "completed"
    },
    "tags": []
   },
   "source": [
    "Well. That's a good start, right? A classifier that predicts all examples' `Severity` as 2 will get around 0.63. You should get better score as you add more features and do better data preprocessing."
   ]
  },
  {
   "cell_type": "markdown",
   "id": "28f6192e",
   "metadata": {
    "papermill": {
     "duration": 0.055231,
     "end_time": "2021-07-27T15:39:14.374492",
     "exception": false,
     "start_time": "2021-07-27T15:39:14.319261",
     "status": "completed"
    },
    "tags": []
   },
   "source": [
    "## Submission File Generation\n",
    "\n",
    "We have built a model and we'd like to submit our predictions on the test set! In order to do that, we'll load the test set, predict the class and save the submission file. \n",
    "\n",
    "First, we'll load the data."
   ]
  },
  {
   "cell_type": "code",
   "execution_count": 34,
   "id": "a27c6341",
   "metadata": {
    "execution": {
     "iopub.execute_input": "2021-07-27T15:39:14.488320Z",
     "iopub.status.busy": "2021-07-27T15:39:14.487627Z",
     "iopub.status.idle": "2021-07-27T15:39:14.526158Z",
     "shell.execute_reply": "2021-07-27T15:39:14.525552Z",
     "shell.execute_reply.started": "2021-07-27T15:33:43.214545Z"
    },
    "papermill": {
     "duration": 0.097986,
     "end_time": "2021-07-27T15:39:14.526302",
     "exception": false,
     "start_time": "2021-07-27T15:39:14.428316",
     "status": "completed"
    },
    "tags": []
   },
   "outputs": [
    {
     "data": {
      "text/html": [
       "<div>\n",
       "<style scoped>\n",
       "    .dataframe tbody tr th:only-of-type {\n",
       "        vertical-align: middle;\n",
       "    }\n",
       "\n",
       "    .dataframe tbody tr th {\n",
       "        vertical-align: top;\n",
       "    }\n",
       "\n",
       "    .dataframe thead th {\n",
       "        text-align: right;\n",
       "    }\n",
       "</style>\n",
       "<table border=\"1\" class=\"dataframe\">\n",
       "  <thead>\n",
       "    <tr style=\"text-align: right;\">\n",
       "      <th></th>\n",
       "      <th>ID</th>\n",
       "      <th>Lat</th>\n",
       "      <th>Lng</th>\n",
       "      <th>Bump</th>\n",
       "      <th>Distance(mi)</th>\n",
       "      <th>Crossing</th>\n",
       "      <th>Give_Way</th>\n",
       "      <th>Junction</th>\n",
       "      <th>No_Exit</th>\n",
       "      <th>Railway</th>\n",
       "      <th>Roundabout</th>\n",
       "      <th>Stop</th>\n",
       "      <th>Amenity</th>\n",
       "      <th>Side</th>\n",
       "      <th>timestamp</th>\n",
       "    </tr>\n",
       "  </thead>\n",
       "  <tbody>\n",
       "    <tr>\n",
       "      <th>0</th>\n",
       "      <td>6407</td>\n",
       "      <td>37.786060</td>\n",
       "      <td>-122.390900</td>\n",
       "      <td>False</td>\n",
       "      <td>0.039</td>\n",
       "      <td>False</td>\n",
       "      <td>False</td>\n",
       "      <td>True</td>\n",
       "      <td>False</td>\n",
       "      <td>False</td>\n",
       "      <td>False</td>\n",
       "      <td>False</td>\n",
       "      <td>False</td>\n",
       "      <td>R</td>\n",
       "      <td>2016-04-04 19:20:31</td>\n",
       "    </tr>\n",
       "    <tr>\n",
       "      <th>1</th>\n",
       "      <td>6408</td>\n",
       "      <td>37.769609</td>\n",
       "      <td>-122.415057</td>\n",
       "      <td>False</td>\n",
       "      <td>0.202</td>\n",
       "      <td>False</td>\n",
       "      <td>False</td>\n",
       "      <td>False</td>\n",
       "      <td>False</td>\n",
       "      <td>False</td>\n",
       "      <td>False</td>\n",
       "      <td>False</td>\n",
       "      <td>False</td>\n",
       "      <td>R</td>\n",
       "      <td>2020-10-28 11:51:00</td>\n",
       "    </tr>\n",
       "    <tr>\n",
       "      <th>2</th>\n",
       "      <td>6409</td>\n",
       "      <td>37.807495</td>\n",
       "      <td>-122.476021</td>\n",
       "      <td>False</td>\n",
       "      <td>0.000</td>\n",
       "      <td>False</td>\n",
       "      <td>False</td>\n",
       "      <td>False</td>\n",
       "      <td>False</td>\n",
       "      <td>False</td>\n",
       "      <td>False</td>\n",
       "      <td>False</td>\n",
       "      <td>False</td>\n",
       "      <td>R</td>\n",
       "      <td>2019-09-09 07:36:45</td>\n",
       "    </tr>\n",
       "    <tr>\n",
       "      <th>3</th>\n",
       "      <td>6410</td>\n",
       "      <td>37.761818</td>\n",
       "      <td>-122.405869</td>\n",
       "      <td>False</td>\n",
       "      <td>0.000</td>\n",
       "      <td>False</td>\n",
       "      <td>False</td>\n",
       "      <td>True</td>\n",
       "      <td>False</td>\n",
       "      <td>False</td>\n",
       "      <td>False</td>\n",
       "      <td>False</td>\n",
       "      <td>False</td>\n",
       "      <td>R</td>\n",
       "      <td>2019-08-06 15:46:25</td>\n",
       "    </tr>\n",
       "    <tr>\n",
       "      <th>4</th>\n",
       "      <td>6411</td>\n",
       "      <td>37.732350</td>\n",
       "      <td>-122.414100</td>\n",
       "      <td>False</td>\n",
       "      <td>0.670</td>\n",
       "      <td>False</td>\n",
       "      <td>False</td>\n",
       "      <td>False</td>\n",
       "      <td>False</td>\n",
       "      <td>False</td>\n",
       "      <td>False</td>\n",
       "      <td>False</td>\n",
       "      <td>False</td>\n",
       "      <td>R</td>\n",
       "      <td>2018-10-17 09:54:58</td>\n",
       "    </tr>\n",
       "  </tbody>\n",
       "</table>\n",
       "</div>"
      ],
      "text/plain": [
       "     ID        Lat         Lng   Bump  Distance(mi)  Crossing  Give_Way  \\\n",
       "0  6407  37.786060 -122.390900  False         0.039     False     False   \n",
       "1  6408  37.769609 -122.415057  False         0.202     False     False   \n",
       "2  6409  37.807495 -122.476021  False         0.000     False     False   \n",
       "3  6410  37.761818 -122.405869  False         0.000     False     False   \n",
       "4  6411  37.732350 -122.414100  False         0.670     False     False   \n",
       "\n",
       "   Junction  No_Exit  Railway  Roundabout   Stop  Amenity Side  \\\n",
       "0      True    False    False       False  False    False    R   \n",
       "1     False    False    False       False  False    False    R   \n",
       "2     False    False    False       False  False    False    R   \n",
       "3      True    False    False       False  False    False    R   \n",
       "4     False    False    False       False  False    False    R   \n",
       "\n",
       "             timestamp  \n",
       "0  2016-04-04 19:20:31  \n",
       "1  2020-10-28 11:51:00  \n",
       "2  2019-09-09 07:36:45  \n",
       "3  2019-08-06 15:46:25  \n",
       "4  2018-10-17 09:54:58  "
      ]
     },
     "execution_count": 34,
     "metadata": {},
     "output_type": "execute_result"
    }
   ],
   "source": [
    "test_df = pd.read_csv(os.path.join(dataset_path, 'test.csv'))\n",
    "test_df.head()"
   ]
  },
  {
   "cell_type": "code",
   "execution_count": 35,
   "id": "53d181db",
   "metadata": {
    "execution": {
     "iopub.execute_input": "2021-07-27T15:39:14.642603Z",
     "iopub.status.busy": "2021-07-27T15:39:14.641923Z",
     "iopub.status.idle": "2021-07-27T15:39:14.645403Z",
     "shell.execute_reply": "2021-07-27T15:39:14.644876Z",
     "shell.execute_reply.started": "2021-07-27T15:33:43.794472Z"
    },
    "papermill": {
     "duration": 0.064711,
     "end_time": "2021-07-27T15:39:14.645546",
     "exception": false,
     "start_time": "2021-07-27T15:39:14.580835",
     "status": "completed"
    },
    "tags": []
   },
   "outputs": [],
   "source": [
    "#Dropping  \"Bump\", \"No_Exist\", \"Give_way\", \"id\", and \"Roundabout\"  columns\n",
    "test_df_2 = test_df.drop(columns = [ 'Bump', 'Give_Way', 'No_Exit', 'Roundabout'])"
   ]
  },
  {
   "cell_type": "code",
   "execution_count": 36,
   "id": "59b170fc",
   "metadata": {
    "execution": {
     "iopub.execute_input": "2021-07-27T15:39:14.765131Z",
     "iopub.status.busy": "2021-07-27T15:39:14.764463Z",
     "iopub.status.idle": "2021-07-27T15:39:14.767743Z",
     "shell.execute_reply": "2021-07-27T15:39:14.767257Z",
     "shell.execute_reply.started": "2021-07-27T15:33:44.208641Z"
    },
    "papermill": {
     "duration": 0.067005,
     "end_time": "2021-07-27T15:39:14.767885",
     "exception": false,
     "start_time": "2021-07-27T15:39:14.700880",
     "status": "completed"
    },
    "tags": []
   },
   "outputs": [],
   "source": [
    "#Convert Railaway, crossing, stop, Junction, and Amentiy columns into zeros and ones \n",
    "test_df_2['Crossing'] = test_df_2['Crossing'] * 1\n",
    "test_df_2['Junction'] = test_df_2['Junction'] * 1\n",
    "test_df_2['Railway'] = test_df_2['Railway'] * 1\n",
    "test_df_2['Stop'] = test_df_2['Stop'] * 1\n",
    "test_df_2['Amenity'] = test_df_2['Amenity'] * 1"
   ]
  },
  {
   "cell_type": "code",
   "execution_count": 37,
   "id": "39aa0db9",
   "metadata": {
    "execution": {
     "iopub.execute_input": "2021-07-27T15:39:14.885743Z",
     "iopub.status.busy": "2021-07-27T15:39:14.882521Z",
     "iopub.status.idle": "2021-07-27T15:39:14.888863Z",
     "shell.execute_reply": "2021-07-27T15:39:14.888251Z",
     "shell.execute_reply.started": "2021-07-27T15:33:45.087493Z"
    },
    "papermill": {
     "duration": 0.067451,
     "end_time": "2021-07-27T15:39:14.889010",
     "exception": false,
     "start_time": "2021-07-27T15:39:14.821559",
     "status": "completed"
    },
    "tags": []
   },
   "outputs": [],
   "source": [
    "#Convert side column R to 1, L to 0\n",
    "mapping_1 = {'R': 1, 'L': 0}\n",
    "test_df_2 = test_df_2.replace({'Side': mapping_1})"
   ]
  },
  {
   "cell_type": "code",
   "execution_count": 38,
   "id": "3eb35c4c",
   "metadata": {
    "execution": {
     "iopub.execute_input": "2021-07-27T15:39:15.004929Z",
     "iopub.status.busy": "2021-07-27T15:39:15.004164Z",
     "iopub.status.idle": "2021-07-27T15:39:15.007074Z",
     "shell.execute_reply": "2021-07-27T15:39:15.007581Z",
     "shell.execute_reply.started": "2021-07-27T15:33:45.580021Z"
    },
    "papermill": {
     "duration": 0.063399,
     "end_time": "2021-07-27T15:39:15.007751",
     "exception": false,
     "start_time": "2021-07-27T15:39:14.944352",
     "status": "completed"
    },
    "tags": []
   },
   "outputs": [],
   "source": [
    "#Replace Zeros values in Distance(mi) column into the mean of the distance\n",
    "distance_mean = test_df_2['Distance(mi)'].mean()\n",
    "test_df_2.loc[test_df_2[\"Distance(mi)\"] == 0, \"Distance(mi)\"] = distance_mean"
   ]
  },
  {
   "cell_type": "code",
   "execution_count": 39,
   "id": "b209909c",
   "metadata": {
    "execution": {
     "iopub.execute_input": "2021-07-27T15:39:15.125280Z",
     "iopub.status.busy": "2021-07-27T15:39:15.124596Z",
     "iopub.status.idle": "2021-07-27T15:39:15.127585Z",
     "shell.execute_reply": "2021-07-27T15:39:15.127088Z",
     "shell.execute_reply.started": "2021-07-27T15:33:46.242340Z"
    },
    "papermill": {
     "duration": 0.065535,
     "end_time": "2021-07-27T15:39:15.127728",
     "exception": false,
     "start_time": "2021-07-27T15:39:15.062193",
     "status": "completed"
    },
    "tags": []
   },
   "outputs": [],
   "source": [
    "#change timestamp column type to Timestamp\n",
    "test_df_2[\"timestamp_date_type\"] = pd.to_datetime(df2['timestamp'])"
   ]
  },
  {
   "cell_type": "code",
   "execution_count": 40,
   "id": "89f89eaa",
   "metadata": {
    "execution": {
     "iopub.execute_input": "2021-07-27T15:39:15.244648Z",
     "iopub.status.busy": "2021-07-27T15:39:15.243690Z",
     "iopub.status.idle": "2021-07-27T15:39:15.259470Z",
     "shell.execute_reply": "2021-07-27T15:39:15.259942Z",
     "shell.execute_reply.started": "2021-07-27T15:33:46.955192Z"
    },
    "papermill": {
     "duration": 0.077471,
     "end_time": "2021-07-27T15:39:15.260143",
     "exception": false,
     "start_time": "2021-07-27T15:39:15.182672",
     "status": "completed"
    },
    "tags": []
   },
   "outputs": [],
   "source": [
    "#split date, hour, day, month\n",
    "test_df_2[\"date\"] = test_df_2[\"timestamp_date_type\"].apply(pd.Timestamp.date)\n",
    "test_df_2[\"hour\"] = test_df_2[\"timestamp_date_type\"].dt.hour\n",
    "test_df_2[\"day\"] = test_df_2[\"timestamp_date_type\"].dt.day\n",
    "test_df_2[\"month\"] = test_df_2[\"timestamp_date_type\"].dt.month"
   ]
  },
  {
   "cell_type": "code",
   "execution_count": 41,
   "id": "5034962d",
   "metadata": {
    "execution": {
     "iopub.execute_input": "2021-07-27T15:39:15.371058Z",
     "iopub.status.busy": "2021-07-27T15:39:15.370074Z",
     "iopub.status.idle": "2021-07-27T15:39:15.383604Z",
     "shell.execute_reply": "2021-07-27T15:39:15.384112Z",
     "shell.execute_reply.started": "2021-07-27T15:33:47.499939Z"
    },
    "papermill": {
     "duration": 0.070656,
     "end_time": "2021-07-27T15:39:15.384296",
     "exception": false,
     "start_time": "2021-07-27T15:39:15.313640",
     "status": "completed"
    },
    "tags": []
   },
   "outputs": [],
   "source": [
    "#To merge weather data_set and training data_Set together make same column in both to merge on it \n",
    "# make modified_date column which contain  'year', 'month', 'day', 'hour'\n",
    "# to match with weather data_set date_column\n",
    "test_df_2[\"year\"] = test_df_2['timestamp_date_type'].dt.year\n",
    "test_df_2['modified_date'] = pd.to_datetime(test_df_2[['year', 'month', 'day', 'hour']])"
   ]
  },
  {
   "cell_type": "code",
   "execution_count": 42,
   "id": "868311c4",
   "metadata": {
    "execution": {
     "iopub.execute_input": "2021-07-27T15:39:15.497424Z",
     "iopub.status.busy": "2021-07-27T15:39:15.496440Z",
     "iopub.status.idle": "2021-07-27T15:39:15.503670Z",
     "shell.execute_reply": "2021-07-27T15:39:15.503121Z",
     "shell.execute_reply.started": "2021-07-27T15:33:48.388885Z"
    },
    "papermill": {
     "duration": 0.066019,
     "end_time": "2021-07-27T15:39:15.503820",
     "exception": false,
     "start_time": "2021-07-27T15:39:15.437801",
     "status": "completed"
    },
    "tags": []
   },
   "outputs": [],
   "source": [
    "#drop unwanted columns from df2\n",
    "test_df_3 = test_df_2.copy()\n",
    "test_df_3 = test_df_2.drop(columns = ['timestamp_date_type', 'date', 'hour', 'day', 'year'])\n"
   ]
  },
  {
   "cell_type": "code",
   "execution_count": 43,
   "id": "fed7ebcb",
   "metadata": {
    "execution": {
     "iopub.execute_input": "2021-07-27T15:39:15.620812Z",
     "iopub.status.busy": "2021-07-27T15:39:15.620156Z",
     "iopub.status.idle": "2021-07-27T15:39:15.630878Z",
     "shell.execute_reply": "2021-07-27T15:39:15.630331Z",
     "shell.execute_reply.started": "2021-07-27T15:33:49.082518Z"
    },
    "papermill": {
     "duration": 0.071455,
     "end_time": "2021-07-27T15:39:15.631037",
     "exception": false,
     "start_time": "2021-07-27T15:39:15.559582",
     "status": "completed"
    },
    "tags": []
   },
   "outputs": [
    {
     "name": "stdout",
     "output_type": "stream",
     "text": [
      "(2137, 22)\n"
     ]
    }
   ],
   "source": [
    "#Merginig weather data set with trainig data_set to get the whoole dataset\n",
    "#Merging on modified_date in weather and modified_date in traing dataset\n",
    "#whole_df = df3.merge(df_weather_5, on = 'modified_date', how='left')\n",
    "whole_test_df = pd.merge(test_df_3, df_weather_5, how='left', left_on = \"modified_date\", right_on = 'modified_date')\n",
    "print(whole_test_df.shape)"
   ]
  },
  {
   "cell_type": "code",
   "execution_count": 44,
   "id": "743f8c64",
   "metadata": {
    "execution": {
     "iopub.execute_input": "2021-07-27T15:39:15.746985Z",
     "iopub.status.busy": "2021-07-27T15:39:15.745854Z",
     "iopub.status.idle": "2021-07-27T15:39:15.756494Z",
     "shell.execute_reply": "2021-07-27T15:39:15.755669Z",
     "shell.execute_reply.started": "2021-07-27T15:33:49.718417Z"
    },
    "papermill": {
     "duration": 0.070497,
     "end_time": "2021-07-27T15:39:15.756695",
     "exception": false,
     "start_time": "2021-07-27T15:39:15.686198",
     "status": "completed"
    },
    "tags": []
   },
   "outputs": [
    {
     "name": "stdout",
     "output_type": "stream",
     "text": [
      "(1601, 22)\n"
     ]
    }
   ],
   "source": [
    "whole_test_df_2 = whole_test_df.drop_duplicates(\"ID\")\n",
    "print(whole_test_df_2.shape)"
   ]
  },
  {
   "cell_type": "code",
   "execution_count": 45,
   "id": "a61e1a13",
   "metadata": {
    "execution": {
     "iopub.execute_input": "2021-07-27T15:39:15.879056Z",
     "iopub.status.busy": "2021-07-27T15:39:15.877975Z",
     "iopub.status.idle": "2021-07-27T15:39:15.889339Z",
     "shell.execute_reply": "2021-07-27T15:39:15.889911Z",
     "shell.execute_reply.started": "2021-07-27T15:33:50.151467Z"
    },
    "papermill": {
     "duration": 0.077336,
     "end_time": "2021-07-27T15:39:15.890224",
     "exception": false,
     "start_time": "2021-07-27T15:39:15.812888",
     "status": "completed"
    },
    "tags": []
   },
   "outputs": [
    {
     "name": "stderr",
     "output_type": "stream",
     "text": [
      "/opt/conda/lib/python3.7/site-packages/ipykernel_launcher.py:2: SettingWithCopyWarning: \n",
      "A value is trying to be set on a copy of a slice from a DataFrame.\n",
      "Try using .loc[row_indexer,col_indexer] = value instead\n",
      "\n",
      "See the caveats in the documentation: https://pandas.pydata.org/pandas-docs/stable/user_guide/indexing.html#returning-a-view-versus-a-copy\n",
      "  \n",
      "/opt/conda/lib/python3.7/site-packages/ipykernel_launcher.py:11: SettingWithCopyWarning: \n",
      "A value is trying to be set on a copy of a slice from a DataFrame.\n",
      "Try using .loc[row_indexer,col_indexer] = value instead\n",
      "\n",
      "See the caveats in the documentation: https://pandas.pydata.org/pandas-docs/stable/user_guide/indexing.html#returning-a-view-versus-a-copy\n",
      "  # This is added back by InteractiveShellApp.init_path()\n"
     ]
    }
   ],
   "source": [
    "# creating holiday column\n",
    "whole_test_df_2[\"month_day\"] = whole_df_2[\"timestamp\"].apply(lambda x: x[5:10])\n",
    "\n",
    "holiday_test_list = []\n",
    "for md in whole_test_df_2[\"month_day\"]:\n",
    "    if md in month_day_list:\n",
    "        holiday_test_list.append(1)\n",
    "    else:\n",
    "        holiday_test_list.append(0)\n",
    "        \n",
    "whole_test_df_2[\"holiday\"] = holiday_test_list"
   ]
  },
  {
   "cell_type": "code",
   "execution_count": 46,
   "id": "4029b3fd",
   "metadata": {
    "execution": {
     "iopub.execute_input": "2021-07-27T15:39:16.005184Z",
     "iopub.status.busy": "2021-07-27T15:39:16.004526Z",
     "iopub.status.idle": "2021-07-27T15:39:16.041542Z",
     "shell.execute_reply": "2021-07-27T15:39:16.042014Z",
     "shell.execute_reply.started": "2021-07-27T15:33:50.981653Z"
    },
    "papermill": {
     "duration": 0.095325,
     "end_time": "2021-07-27T15:39:16.042225",
     "exception": false,
     "start_time": "2021-07-27T15:39:15.946900",
     "status": "completed"
    },
    "tags": []
   },
   "outputs": [
    {
     "data": {
      "text/html": [
       "<div>\n",
       "<style scoped>\n",
       "    .dataframe tbody tr th:only-of-type {\n",
       "        vertical-align: middle;\n",
       "    }\n",
       "\n",
       "    .dataframe tbody tr th {\n",
       "        vertical-align: top;\n",
       "    }\n",
       "\n",
       "    .dataframe thead th {\n",
       "        text-align: right;\n",
       "    }\n",
       "</style>\n",
       "<table border=\"1\" class=\"dataframe\">\n",
       "  <thead>\n",
       "    <tr style=\"text-align: right;\">\n",
       "      <th></th>\n",
       "      <th>ID</th>\n",
       "      <th>Lat</th>\n",
       "      <th>Lng</th>\n",
       "      <th>Distance(mi)</th>\n",
       "      <th>Crossing</th>\n",
       "      <th>Junction</th>\n",
       "      <th>Railway</th>\n",
       "      <th>Stop</th>\n",
       "      <th>Amenity</th>\n",
       "      <th>Side</th>\n",
       "      <th>...</th>\n",
       "      <th>Weather_Condition</th>\n",
       "      <th>Wind_Chill(F)</th>\n",
       "      <th>Precipitation(in)</th>\n",
       "      <th>Temperature(F)</th>\n",
       "      <th>Humidity(%)</th>\n",
       "      <th>Wind_Speed(mph)</th>\n",
       "      <th>Visibility(mi)</th>\n",
       "      <th>date</th>\n",
       "      <th>month_day</th>\n",
       "      <th>holiday</th>\n",
       "    </tr>\n",
       "  </thead>\n",
       "  <tbody>\n",
       "    <tr>\n",
       "      <th>0</th>\n",
       "      <td>6407</td>\n",
       "      <td>37.786060</td>\n",
       "      <td>-122.390900</td>\n",
       "      <td>0.039000</td>\n",
       "      <td>0</td>\n",
       "      <td>1</td>\n",
       "      <td>0</td>\n",
       "      <td>0</td>\n",
       "      <td>0</td>\n",
       "      <td>1</td>\n",
       "      <td>...</td>\n",
       "      <td>0.307692</td>\n",
       "      <td>0.352858</td>\n",
       "      <td>0.0122</td>\n",
       "      <td>0.450886</td>\n",
       "      <td>0.533333</td>\n",
       "      <td>0.570720</td>\n",
       "      <td>1.0</td>\n",
       "      <td>2016-03-25</td>\n",
       "      <td>03-25</td>\n",
       "      <td>0</td>\n",
       "    </tr>\n",
       "    <tr>\n",
       "      <th>2</th>\n",
       "      <td>6408</td>\n",
       "      <td>37.769609</td>\n",
       "      <td>-122.415057</td>\n",
       "      <td>0.202000</td>\n",
       "      <td>0</td>\n",
       "      <td>0</td>\n",
       "      <td>0</td>\n",
       "      <td>0</td>\n",
       "      <td>0</td>\n",
       "      <td>1</td>\n",
       "      <td>...</td>\n",
       "      <td>0.576923</td>\n",
       "      <td>0.387145</td>\n",
       "      <td>0.0000</td>\n",
       "      <td>0.338164</td>\n",
       "      <td>0.811111</td>\n",
       "      <td>0.545906</td>\n",
       "      <td>1.0</td>\n",
       "      <td>2020-05-05</td>\n",
       "      <td>05-05</td>\n",
       "      <td>0</td>\n",
       "    </tr>\n",
       "    <tr>\n",
       "      <th>4</th>\n",
       "      <td>6409</td>\n",
       "      <td>37.807495</td>\n",
       "      <td>-122.476021</td>\n",
       "      <td>0.149761</td>\n",
       "      <td>0</td>\n",
       "      <td>0</td>\n",
       "      <td>0</td>\n",
       "      <td>0</td>\n",
       "      <td>0</td>\n",
       "      <td>1</td>\n",
       "      <td>...</td>\n",
       "      <td>0.153846</td>\n",
       "      <td>0.569058</td>\n",
       "      <td>0.0000</td>\n",
       "      <td>0.420290</td>\n",
       "      <td>0.777778</td>\n",
       "      <td>0.228288</td>\n",
       "      <td>1.0</td>\n",
       "      <td>2016-09-16</td>\n",
       "      <td>09-16</td>\n",
       "      <td>0</td>\n",
       "    </tr>\n",
       "    <tr>\n",
       "      <th>5</th>\n",
       "      <td>6410</td>\n",
       "      <td>37.761818</td>\n",
       "      <td>-122.405869</td>\n",
       "      <td>0.149761</td>\n",
       "      <td>0</td>\n",
       "      <td>1</td>\n",
       "      <td>0</td>\n",
       "      <td>0</td>\n",
       "      <td>0</td>\n",
       "      <td>1</td>\n",
       "      <td>...</td>\n",
       "      <td>0.038462</td>\n",
       "      <td>0.402093</td>\n",
       "      <td>0.0000</td>\n",
       "      <td>0.354267</td>\n",
       "      <td>0.666667</td>\n",
       "      <td>0.248139</td>\n",
       "      <td>1.0</td>\n",
       "      <td>2020-03-29</td>\n",
       "      <td>03-29</td>\n",
       "      <td>0</td>\n",
       "    </tr>\n",
       "    <tr>\n",
       "      <th>6</th>\n",
       "      <td>6411</td>\n",
       "      <td>37.732350</td>\n",
       "      <td>-122.414100</td>\n",
       "      <td>0.670000</td>\n",
       "      <td>0</td>\n",
       "      <td>0</td>\n",
       "      <td>0</td>\n",
       "      <td>0</td>\n",
       "      <td>0</td>\n",
       "      <td>1</td>\n",
       "      <td>...</td>\n",
       "      <td>0.038462</td>\n",
       "      <td>0.402093</td>\n",
       "      <td>0.0000</td>\n",
       "      <td>0.354267</td>\n",
       "      <td>0.611111</td>\n",
       "      <td>0.074442</td>\n",
       "      <td>1.0</td>\n",
       "      <td>2019-10-09</td>\n",
       "      <td>10-09</td>\n",
       "      <td>1</td>\n",
       "    </tr>\n",
       "    <tr>\n",
       "      <th>...</th>\n",
       "      <td>...</td>\n",
       "      <td>...</td>\n",
       "      <td>...</td>\n",
       "      <td>...</td>\n",
       "      <td>...</td>\n",
       "      <td>...</td>\n",
       "      <td>...</td>\n",
       "      <td>...</td>\n",
       "      <td>...</td>\n",
       "      <td>...</td>\n",
       "      <td>...</td>\n",
       "      <td>...</td>\n",
       "      <td>...</td>\n",
       "      <td>...</td>\n",
       "      <td>...</td>\n",
       "      <td>...</td>\n",
       "      <td>...</td>\n",
       "      <td>...</td>\n",
       "      <td>...</td>\n",
       "      <td>...</td>\n",
       "      <td>...</td>\n",
       "    </tr>\n",
       "    <tr>\n",
       "      <th>2130</th>\n",
       "      <td>8003</td>\n",
       "      <td>37.812973</td>\n",
       "      <td>-122.362335</td>\n",
       "      <td>4.460000</td>\n",
       "      <td>0</td>\n",
       "      <td>0</td>\n",
       "      <td>0</td>\n",
       "      <td>0</td>\n",
       "      <td>0</td>\n",
       "      <td>1</td>\n",
       "      <td>...</td>\n",
       "      <td>0.153846</td>\n",
       "      <td>0.569058</td>\n",
       "      <td>0.0000</td>\n",
       "      <td>0.402576</td>\n",
       "      <td>0.722222</td>\n",
       "      <td>0.228288</td>\n",
       "      <td>1.0</td>\n",
       "      <td>2018-09-11</td>\n",
       "      <td>09-11</td>\n",
       "      <td>0</td>\n",
       "    </tr>\n",
       "    <tr>\n",
       "      <th>2131</th>\n",
       "      <td>8004</td>\n",
       "      <td>37.761818</td>\n",
       "      <td>-122.405861</td>\n",
       "      <td>0.010000</td>\n",
       "      <td>0</td>\n",
       "      <td>1</td>\n",
       "      <td>0</td>\n",
       "      <td>0</td>\n",
       "      <td>0</td>\n",
       "      <td>1</td>\n",
       "      <td>...</td>\n",
       "      <td>0.076923</td>\n",
       "      <td>0.581465</td>\n",
       "      <td>0.0000</td>\n",
       "      <td>0.547504</td>\n",
       "      <td>0.566667</td>\n",
       "      <td>0.223325</td>\n",
       "      <td>1.0</td>\n",
       "      <td>2019-08-19</td>\n",
       "      <td>08-19</td>\n",
       "      <td>0</td>\n",
       "    </tr>\n",
       "    <tr>\n",
       "      <th>2132</th>\n",
       "      <td>8005</td>\n",
       "      <td>37.732260</td>\n",
       "      <td>-122.431970</td>\n",
       "      <td>0.431000</td>\n",
       "      <td>0</td>\n",
       "      <td>1</td>\n",
       "      <td>0</td>\n",
       "      <td>0</td>\n",
       "      <td>0</td>\n",
       "      <td>1</td>\n",
       "      <td>...</td>\n",
       "      <td>0.230769</td>\n",
       "      <td>0.431988</td>\n",
       "      <td>0.0000</td>\n",
       "      <td>0.386473</td>\n",
       "      <td>0.688889</td>\n",
       "      <td>0.074442</td>\n",
       "      <td>0.9</td>\n",
       "      <td>2020-02-28</td>\n",
       "      <td>02-28</td>\n",
       "      <td>0</td>\n",
       "    </tr>\n",
       "    <tr>\n",
       "      <th>2133</th>\n",
       "      <td>8006</td>\n",
       "      <td>37.786782</td>\n",
       "      <td>-122.390126</td>\n",
       "      <td>0.149761</td>\n",
       "      <td>1</td>\n",
       "      <td>0</td>\n",
       "      <td>0</td>\n",
       "      <td>0</td>\n",
       "      <td>0</td>\n",
       "      <td>1</td>\n",
       "      <td>...</td>\n",
       "      <td>0.038462</td>\n",
       "      <td>0.192825</td>\n",
       "      <td>0.0000</td>\n",
       "      <td>0.128824</td>\n",
       "      <td>0.833333</td>\n",
       "      <td>0.074442</td>\n",
       "      <td>1.0</td>\n",
       "      <td>2020-12-29</td>\n",
       "      <td>12-29</td>\n",
       "      <td>0</td>\n",
       "    </tr>\n",
       "    <tr>\n",
       "      <th>2135</th>\n",
       "      <td>8007</td>\n",
       "      <td>37.773040</td>\n",
       "      <td>-122.406570</td>\n",
       "      <td>0.087000</td>\n",
       "      <td>0</td>\n",
       "      <td>0</td>\n",
       "      <td>0</td>\n",
       "      <td>0</td>\n",
       "      <td>0</td>\n",
       "      <td>1</td>\n",
       "      <td>...</td>\n",
       "      <td>0.153846</td>\n",
       "      <td>0.352858</td>\n",
       "      <td>0.0122</td>\n",
       "      <td>0.175523</td>\n",
       "      <td>0.844444</td>\n",
       "      <td>0.086849</td>\n",
       "      <td>0.8</td>\n",
       "      <td>2019-03-29</td>\n",
       "      <td>03-29</td>\n",
       "      <td>0</td>\n",
       "    </tr>\n",
       "  </tbody>\n",
       "</table>\n",
       "<p>1601 rows × 24 columns</p>\n",
       "</div>"
      ],
      "text/plain": [
       "        ID        Lat         Lng  Distance(mi)  Crossing  Junction  Railway  \\\n",
       "0     6407  37.786060 -122.390900      0.039000         0         1        0   \n",
       "2     6408  37.769609 -122.415057      0.202000         0         0        0   \n",
       "4     6409  37.807495 -122.476021      0.149761         0         0        0   \n",
       "5     6410  37.761818 -122.405869      0.149761         0         1        0   \n",
       "6     6411  37.732350 -122.414100      0.670000         0         0        0   \n",
       "...    ...        ...         ...           ...       ...       ...      ...   \n",
       "2130  8003  37.812973 -122.362335      4.460000         0         0        0   \n",
       "2131  8004  37.761818 -122.405861      0.010000         0         1        0   \n",
       "2132  8005  37.732260 -122.431970      0.431000         0         1        0   \n",
       "2133  8006  37.786782 -122.390126      0.149761         1         0        0   \n",
       "2135  8007  37.773040 -122.406570      0.087000         0         0        0   \n",
       "\n",
       "      Stop  Amenity  Side  ... Weather_Condition  Wind_Chill(F)  \\\n",
       "0        0        0     1  ...          0.307692       0.352858   \n",
       "2        0        0     1  ...          0.576923       0.387145   \n",
       "4        0        0     1  ...          0.153846       0.569058   \n",
       "5        0        0     1  ...          0.038462       0.402093   \n",
       "6        0        0     1  ...          0.038462       0.402093   \n",
       "...    ...      ...   ...  ...               ...            ...   \n",
       "2130     0        0     1  ...          0.153846       0.569058   \n",
       "2131     0        0     1  ...          0.076923       0.581465   \n",
       "2132     0        0     1  ...          0.230769       0.431988   \n",
       "2133     0        0     1  ...          0.038462       0.192825   \n",
       "2135     0        0     1  ...          0.153846       0.352858   \n",
       "\n",
       "     Precipitation(in)  Temperature(F)  Humidity(%)  Wind_Speed(mph)  \\\n",
       "0               0.0122        0.450886     0.533333         0.570720   \n",
       "2               0.0000        0.338164     0.811111         0.545906   \n",
       "4               0.0000        0.420290     0.777778         0.228288   \n",
       "5               0.0000        0.354267     0.666667         0.248139   \n",
       "6               0.0000        0.354267     0.611111         0.074442   \n",
       "...                ...             ...          ...              ...   \n",
       "2130            0.0000        0.402576     0.722222         0.228288   \n",
       "2131            0.0000        0.547504     0.566667         0.223325   \n",
       "2132            0.0000        0.386473     0.688889         0.074442   \n",
       "2133            0.0000        0.128824     0.833333         0.074442   \n",
       "2135            0.0122        0.175523     0.844444         0.086849   \n",
       "\n",
       "      Visibility(mi)       date  month_day  holiday  \n",
       "0                1.0 2016-03-25      03-25        0  \n",
       "2                1.0 2020-05-05      05-05        0  \n",
       "4                1.0 2016-09-16      09-16        0  \n",
       "5                1.0 2020-03-29      03-29        0  \n",
       "6                1.0 2019-10-09      10-09        1  \n",
       "...              ...        ...        ...      ...  \n",
       "2130             1.0 2018-09-11      09-11        0  \n",
       "2131             1.0 2019-08-19      08-19        0  \n",
       "2132             0.9 2020-02-28      02-28        0  \n",
       "2133             1.0 2020-12-29      12-29        0  \n",
       "2135             0.8 2019-03-29      03-29        0  \n",
       "\n",
       "[1601 rows x 24 columns]"
      ]
     },
     "execution_count": 46,
     "metadata": {},
     "output_type": "execute_result"
    }
   ],
   "source": [
    "whole_test_df_2"
   ]
  },
  {
   "cell_type": "markdown",
   "id": "e2479253",
   "metadata": {
    "papermill": {
     "duration": 0.055392,
     "end_time": "2021-07-27T15:39:16.154982",
     "exception": false,
     "start_time": "2021-07-27T15:39:16.099590",
     "status": "completed"
    },
    "tags": []
   },
   "source": [
    "Note that the test set has the same features and doesn't have the `Severity` column.\n",
    "At this stage one must **NOT** forget to apply the same processing done on the training set on the features of the test set.\n",
    "\n",
    "Now we'll add `Severity` column to the test `DataFrame` and add the values of the predicted class to it.\n",
    "\n",
    "**I'll select the numerical features here as I did in the training set. DO NOT forget to change this step as you change the preprocessing of the training data.**"
   ]
  },
  {
   "cell_type": "code",
   "execution_count": null,
   "id": "0bb44c1e",
   "metadata": {
    "papermill": {
     "duration": 0.055784,
     "end_time": "2021-07-27T15:39:16.266282",
     "exception": false,
     "start_time": "2021-07-27T15:39:16.210498",
     "status": "completed"
    },
    "tags": []
   },
   "outputs": [],
   "source": []
  },
  {
   "cell_type": "code",
   "execution_count": 47,
   "id": "32d0b0ac",
   "metadata": {
    "execution": {
     "iopub.execute_input": "2021-07-27T15:39:16.390485Z",
     "iopub.status.busy": "2021-07-27T15:39:16.389478Z",
     "iopub.status.idle": "2021-07-27T15:39:16.444697Z",
     "shell.execute_reply": "2021-07-27T15:39:16.444039Z",
     "shell.execute_reply.started": "2021-07-27T15:33:52.738154Z"
    },
    "papermill": {
     "duration": 0.115001,
     "end_time": "2021-07-27T15:39:16.444839",
     "exception": false,
     "start_time": "2021-07-27T15:39:16.329838",
     "status": "completed"
    },
    "tags": []
   },
   "outputs": [
    {
     "name": "stderr",
     "output_type": "stream",
     "text": [
      "/opt/conda/lib/python3.7/site-packages/ipykernel_launcher.py:9: SettingWithCopyWarning: \n",
      "A value is trying to be set on a copy of a slice from a DataFrame.\n",
      "Try using .loc[row_indexer,col_indexer] = value instead\n",
      "\n",
      "See the caveats in the documentation: https://pandas.pydata.org/pandas-docs/stable/user_guide/indexing.html#returning-a-view-versus-a-copy\n",
      "  if __name__ == '__main__':\n"
     ]
    },
    {
     "data": {
      "text/html": [
       "<div>\n",
       "<style scoped>\n",
       "    .dataframe tbody tr th:only-of-type {\n",
       "        vertical-align: middle;\n",
       "    }\n",
       "\n",
       "    .dataframe tbody tr th {\n",
       "        vertical-align: top;\n",
       "    }\n",
       "\n",
       "    .dataframe thead th {\n",
       "        text-align: right;\n",
       "    }\n",
       "</style>\n",
       "<table border=\"1\" class=\"dataframe\">\n",
       "  <thead>\n",
       "    <tr style=\"text-align: right;\">\n",
       "      <th></th>\n",
       "      <th>ID</th>\n",
       "      <th>Lat</th>\n",
       "      <th>Lng</th>\n",
       "      <th>Distance(mi)</th>\n",
       "      <th>Crossing</th>\n",
       "      <th>Junction</th>\n",
       "      <th>Railway</th>\n",
       "      <th>Stop</th>\n",
       "      <th>Amenity</th>\n",
       "      <th>Side</th>\n",
       "      <th>...</th>\n",
       "      <th>Wind_Chill(F)</th>\n",
       "      <th>Precipitation(in)</th>\n",
       "      <th>Temperature(F)</th>\n",
       "      <th>Humidity(%)</th>\n",
       "      <th>Wind_Speed(mph)</th>\n",
       "      <th>Visibility(mi)</th>\n",
       "      <th>date</th>\n",
       "      <th>month_day</th>\n",
       "      <th>holiday</th>\n",
       "      <th>Severity</th>\n",
       "    </tr>\n",
       "  </thead>\n",
       "  <tbody>\n",
       "    <tr>\n",
       "      <th>0</th>\n",
       "      <td>6407</td>\n",
       "      <td>37.786060</td>\n",
       "      <td>-122.390900</td>\n",
       "      <td>0.039000</td>\n",
       "      <td>0</td>\n",
       "      <td>1</td>\n",
       "      <td>0</td>\n",
       "      <td>0</td>\n",
       "      <td>0</td>\n",
       "      <td>1</td>\n",
       "      <td>...</td>\n",
       "      <td>0.352858</td>\n",
       "      <td>0.0122</td>\n",
       "      <td>0.450886</td>\n",
       "      <td>0.533333</td>\n",
       "      <td>0.570720</td>\n",
       "      <td>1.0</td>\n",
       "      <td>2016-03-25</td>\n",
       "      <td>03-25</td>\n",
       "      <td>0</td>\n",
       "      <td>2</td>\n",
       "    </tr>\n",
       "    <tr>\n",
       "      <th>2</th>\n",
       "      <td>6408</td>\n",
       "      <td>37.769609</td>\n",
       "      <td>-122.415057</td>\n",
       "      <td>0.202000</td>\n",
       "      <td>0</td>\n",
       "      <td>0</td>\n",
       "      <td>0</td>\n",
       "      <td>0</td>\n",
       "      <td>0</td>\n",
       "      <td>1</td>\n",
       "      <td>...</td>\n",
       "      <td>0.387145</td>\n",
       "      <td>0.0000</td>\n",
       "      <td>0.338164</td>\n",
       "      <td>0.811111</td>\n",
       "      <td>0.545906</td>\n",
       "      <td>1.0</td>\n",
       "      <td>2020-05-05</td>\n",
       "      <td>05-05</td>\n",
       "      <td>0</td>\n",
       "      <td>2</td>\n",
       "    </tr>\n",
       "    <tr>\n",
       "      <th>4</th>\n",
       "      <td>6409</td>\n",
       "      <td>37.807495</td>\n",
       "      <td>-122.476021</td>\n",
       "      <td>0.149761</td>\n",
       "      <td>0</td>\n",
       "      <td>0</td>\n",
       "      <td>0</td>\n",
       "      <td>0</td>\n",
       "      <td>0</td>\n",
       "      <td>1</td>\n",
       "      <td>...</td>\n",
       "      <td>0.569058</td>\n",
       "      <td>0.0000</td>\n",
       "      <td>0.420290</td>\n",
       "      <td>0.777778</td>\n",
       "      <td>0.228288</td>\n",
       "      <td>1.0</td>\n",
       "      <td>2016-09-16</td>\n",
       "      <td>09-16</td>\n",
       "      <td>0</td>\n",
       "      <td>2</td>\n",
       "    </tr>\n",
       "    <tr>\n",
       "      <th>5</th>\n",
       "      <td>6410</td>\n",
       "      <td>37.761818</td>\n",
       "      <td>-122.405869</td>\n",
       "      <td>0.149761</td>\n",
       "      <td>0</td>\n",
       "      <td>1</td>\n",
       "      <td>0</td>\n",
       "      <td>0</td>\n",
       "      <td>0</td>\n",
       "      <td>1</td>\n",
       "      <td>...</td>\n",
       "      <td>0.402093</td>\n",
       "      <td>0.0000</td>\n",
       "      <td>0.354267</td>\n",
       "      <td>0.666667</td>\n",
       "      <td>0.248139</td>\n",
       "      <td>1.0</td>\n",
       "      <td>2020-03-29</td>\n",
       "      <td>03-29</td>\n",
       "      <td>0</td>\n",
       "      <td>2</td>\n",
       "    </tr>\n",
       "    <tr>\n",
       "      <th>6</th>\n",
       "      <td>6411</td>\n",
       "      <td>37.732350</td>\n",
       "      <td>-122.414100</td>\n",
       "      <td>0.670000</td>\n",
       "      <td>0</td>\n",
       "      <td>0</td>\n",
       "      <td>0</td>\n",
       "      <td>0</td>\n",
       "      <td>0</td>\n",
       "      <td>1</td>\n",
       "      <td>...</td>\n",
       "      <td>0.402093</td>\n",
       "      <td>0.0000</td>\n",
       "      <td>0.354267</td>\n",
       "      <td>0.611111</td>\n",
       "      <td>0.074442</td>\n",
       "      <td>1.0</td>\n",
       "      <td>2019-10-09</td>\n",
       "      <td>10-09</td>\n",
       "      <td>1</td>\n",
       "      <td>2</td>\n",
       "    </tr>\n",
       "  </tbody>\n",
       "</table>\n",
       "<p>5 rows × 25 columns</p>\n",
       "</div>"
      ],
      "text/plain": [
       "     ID        Lat         Lng  Distance(mi)  Crossing  Junction  Railway  \\\n",
       "0  6407  37.786060 -122.390900      0.039000         0         1        0   \n",
       "2  6408  37.769609 -122.415057      0.202000         0         0        0   \n",
       "4  6409  37.807495 -122.476021      0.149761         0         0        0   \n",
       "5  6410  37.761818 -122.405869      0.149761         0         1        0   \n",
       "6  6411  37.732350 -122.414100      0.670000         0         0        0   \n",
       "\n",
       "   Stop  Amenity  Side  ... Wind_Chill(F)  Precipitation(in) Temperature(F)  \\\n",
       "0     0        0     1  ...      0.352858             0.0122       0.450886   \n",
       "2     0        0     1  ...      0.387145             0.0000       0.338164   \n",
       "4     0        0     1  ...      0.569058             0.0000       0.420290   \n",
       "5     0        0     1  ...      0.402093             0.0000       0.354267   \n",
       "6     0        0     1  ...      0.402093             0.0000       0.354267   \n",
       "\n",
       "   Humidity(%)  Wind_Speed(mph)  Visibility(mi)       date  month_day  \\\n",
       "0     0.533333         0.570720             1.0 2016-03-25      03-25   \n",
       "2     0.811111         0.545906             1.0 2020-05-05      05-05   \n",
       "4     0.777778         0.228288             1.0 2016-09-16      09-16   \n",
       "5     0.666667         0.248139             1.0 2020-03-29      03-29   \n",
       "6     0.611111         0.074442             1.0 2019-10-09      10-09   \n",
       "\n",
       "   holiday  Severity  \n",
       "0        0         2  \n",
       "2        0         2  \n",
       "4        0         2  \n",
       "5        0         2  \n",
       "6        1         2  \n",
       "\n",
       "[5 rows x 25 columns]"
      ]
     },
     "execution_count": 47,
     "metadata": {},
     "output_type": "execute_result"
    }
   ],
   "source": [
    "X_test = whole_test_df_2.drop(columns=['ID'])\n",
    "\n",
    "# You should update/remove the next line once you change the features used for training\n",
    "X_test = X_test[['Lat', 'Lng', 'Distance(mi)', 'Junction', 'Railway', 'Stop', 'Amenity', 'holiday','Side', 'Weather_Condition', 'Wind_Chill(F)', 'Precipitation(in)',\n",
    "       'Temperature(F)', 'Humidity(%)', 'Wind_Speed(mph)', 'Visibility(mi)','Year']]\n",
    "\n",
    "y_test_predicted = classifier.predict(X_test)\n",
    "\n",
    "whole_test_df_2['Severity'] = y_test_predicted\n",
    "\n",
    "whole_test_df_2.head()"
   ]
  },
  {
   "cell_type": "markdown",
   "id": "50114cfc",
   "metadata": {
    "papermill": {
     "duration": 0.057715,
     "end_time": "2021-07-27T15:39:16.561556",
     "exception": false,
     "start_time": "2021-07-27T15:39:16.503841",
     "status": "completed"
    },
    "tags": []
   },
   "source": [
    "Now we're ready to generate the submission file. The submission file needs the columns `ID` and `Severity` only."
   ]
  },
  {
   "cell_type": "code",
   "execution_count": 48,
   "id": "8296fe79",
   "metadata": {
    "execution": {
     "iopub.execute_input": "2021-07-27T15:39:16.683384Z",
     "iopub.status.busy": "2021-07-27T15:39:16.682649Z",
     "iopub.status.idle": "2021-07-27T15:39:16.694707Z",
     "shell.execute_reply": "2021-07-27T15:39:16.694176Z",
     "shell.execute_reply.started": "2021-07-27T15:33:54.052611Z"
    },
    "papermill": {
     "duration": 0.075172,
     "end_time": "2021-07-27T15:39:16.694851",
     "exception": false,
     "start_time": "2021-07-27T15:39:16.619679",
     "status": "completed"
    },
    "tags": []
   },
   "outputs": [],
   "source": [
    "whole_test_df_2[['ID', 'Severity']].to_csv('/kaggle/working/submission.csv', index=False)"
   ]
  },
  {
   "cell_type": "markdown",
   "id": "48b07227",
   "metadata": {
    "papermill": {
     "duration": 0.058322,
     "end_time": "2021-07-27T15:39:16.812109",
     "exception": false,
     "start_time": "2021-07-27T15:39:16.753787",
     "status": "completed"
    },
    "tags": []
   },
   "source": [
    "\n",
    "The remaining steps is to submit the generated file and are as follows. \n",
    "\n",
    "1. Press `Save Version` on the upper right corner of this notebook.\n",
    "2. Write a `Version Name` of your choice and choose `Save & Run All (Commit)` then click `Save`.\n",
    "3. Wait for the saved notebook to finish running the go to the saved notebook.\n",
    "4. Scroll down until you see the output files then select the `submission.csv` file and click `Submit`.\n",
    "\n",
    "Now your submission will be evaluated and your score will be updated on the leaderboard! CONGRATULATIONS!!"
   ]
  },
  {
   "cell_type": "markdown",
   "id": "1d2f19dd",
   "metadata": {
    "papermill": {
     "duration": 0.057126,
     "end_time": "2021-07-27T15:39:16.926761",
     "exception": false,
     "start_time": "2021-07-27T15:39:16.869635",
     "status": "completed"
    },
    "tags": []
   },
   "source": [
    "## Conclusion\n",
    "\n",
    "In this notebook, we have demonstrated the essential steps that one should do in order to get \"slightly\" familiar with the data and the submission process. We chose not to go into details in each step to keep the welcoming notebook simple and make a room for improvement.\n",
    "\n",
    "You're encourged to `Fork` the notebook, edit it, add your insights and use it to create your submission."
   ]
  },
  {
   "cell_type": "code",
   "execution_count": null,
   "id": "a74598c8",
   "metadata": {
    "papermill": {
     "duration": 0.06854,
     "end_time": "2021-07-27T15:39:17.052968",
     "exception": false,
     "start_time": "2021-07-27T15:39:16.984428",
     "status": "completed"
    },
    "tags": []
   },
   "outputs": [],
   "source": []
  }
 ],
 "metadata": {
  "kernelspec": {
   "display_name": "Python 3",
   "language": "python",
   "name": "python3"
  },
  "language_info": {
   "codemirror_mode": {
    "name": "ipython",
    "version": 3
   },
   "file_extension": ".py",
   "mimetype": "text/x-python",
   "name": "python",
   "nbconvert_exporter": "python",
   "pygments_lexer": "ipython3",
   "version": "3.7.10"
  },
  "papermill": {
   "default_parameters": {},
   "duration": 19.914376,
   "end_time": "2021-07-27T15:39:18.470777",
   "environment_variables": {},
   "exception": null,
   "input_path": "__notebook__.ipynb",
   "output_path": "__notebook__.ipynb",
   "parameters": {},
   "start_time": "2021-07-27T15:38:58.556401",
   "version": "2.3.3"
  }
 },
 "nbformat": 4,
 "nbformat_minor": 5
}
